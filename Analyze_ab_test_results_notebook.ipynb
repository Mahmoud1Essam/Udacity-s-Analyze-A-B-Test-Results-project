{
 "cells": [
  {
   "cell_type": "markdown",
   "metadata": {},
   "source": [
    "# Analyze A/B Test Results \n",
    "\n",
    "This project will assure you have mastered the subjects covered in the statistics lessons. We have organized the current notebook into the following sections: \n",
    "\n",
    "- [Introduction](#intro)\n",
    "- [Part I - Probability](#probability)\n",
    "- [Part II - A/B Test](#ab_test)\n",
    "- [Part III - Regression](#regression)\n",
    "- [Final Check](#finalcheck)\n",
    "- [Submission](#submission)\n",
    "\n",
    "Specific programming tasks are marked with a **ToDo** tag. \n",
    "\n",
    "<a id='intro'></a>\n",
    "## Introduction\n",
    "\n",
    "A/B tests are very commonly performed by data analysts and data scientists. For this project, you will be working to understand the results of an A/B test run by an e-commerce website.  Your goal is to work through this notebook to help the company understand if they should:\n",
    "- Implement the new webpage, \n",
    "- Keep the old webpage, or \n",
    "- Perhaps run the experiment longer to make their decision.\n",
    "\n",
    "Each **ToDo** task below has an associated quiz present in the classroom.  Though the classroom quizzes are **not necessary** to complete the project, they help ensure you are on the right track as you work through the project, and you can feel more confident in your final submission meeting the [rubric](https://review.udacity.com/#!/rubrics/1214/view) specification. \n",
    "\n",
    ">**Tip**: Though it's not a mandate, students can attempt the classroom quizzes to ensure statistical numeric values are calculated correctly in many cases.\n",
    "\n",
    "<a id='probability'></a>\n",
    "## Part I - Probability\n",
    "\n",
    "To get started, let's import our libraries."
   ]
  },
  {
   "cell_type": "code",
   "execution_count": 1,
   "metadata": {},
   "outputs": [],
   "source": [
    "import pandas as pd\n",
    "import numpy as np\n",
    "import random\n",
    "import matplotlib.pyplot as plt\n",
    "%matplotlib inline\n",
    "#We are setting the seed to assure you get the same answers on quizzes as we set up\n",
    "random.seed(42)"
   ]
  },
  {
   "cell_type": "markdown",
   "metadata": {},
   "source": [
    "### ToDo 1.1\n",
    "Now, read in the `ab_data.csv` data. Store it in `df`. Below is the description of the data, there are a total of 5 columns:\n",
    "\n",
    "<center>\n",
    "\n",
    "|Data columns|Purpose|Valid values|\n",
    "| ------------- |:-------------| -----:|\n",
    "|user_id|Unique ID|Int64 values|\n",
    "|timestamp|Time stamp when the user visited the webpage|-|\n",
    "|group|In the current A/B experiment, the users are categorized into two broad groups. <br>The `control` group users are expected to be served with `old_page`; and `treatment` group users are matched with the `new_page`. <br>However, **some inaccurate rows** are present in the initial data, such as a `control` group user is matched with a `new_page`. |`['control', 'treatment']`|\n",
    "|landing_page|It denotes whether the user visited the old or new webpage.|`['old_page', 'new_page']`|\n",
    "|converted|It denotes whether the user decided to pay for the company's product. Here, `1` means yes, the user bought the product.|`[0, 1]`|\n",
    "</center>\n",
    "Use your dataframe to answer the questions in Quiz 1 of the classroom.\n",
    "\n",
    "\n",
    ">**Tip**: Please save your work regularly.\n",
    "\n",
    "**a.** Read in the dataset from the `ab_data.csv` file and take a look at the top few rows here:"
   ]
  },
  {
   "cell_type": "code",
   "execution_count": 2,
   "metadata": {},
   "outputs": [
    {
     "data": {
      "text/html": [
       "<div>\n",
       "<style scoped>\n",
       "    .dataframe tbody tr th:only-of-type {\n",
       "        vertical-align: middle;\n",
       "    }\n",
       "\n",
       "    .dataframe tbody tr th {\n",
       "        vertical-align: top;\n",
       "    }\n",
       "\n",
       "    .dataframe thead th {\n",
       "        text-align: right;\n",
       "    }\n",
       "</style>\n",
       "<table border=\"1\" class=\"dataframe\">\n",
       "  <thead>\n",
       "    <tr style=\"text-align: right;\">\n",
       "      <th></th>\n",
       "      <th>user_id</th>\n",
       "      <th>timestamp</th>\n",
       "      <th>group</th>\n",
       "      <th>landing_page</th>\n",
       "      <th>converted</th>\n",
       "    </tr>\n",
       "  </thead>\n",
       "  <tbody>\n",
       "    <tr>\n",
       "      <th>0</th>\n",
       "      <td>851104</td>\n",
       "      <td>2017-01-21 22:11:48.556739</td>\n",
       "      <td>control</td>\n",
       "      <td>old_page</td>\n",
       "      <td>0</td>\n",
       "    </tr>\n",
       "    <tr>\n",
       "      <th>1</th>\n",
       "      <td>804228</td>\n",
       "      <td>2017-01-12 08:01:45.159739</td>\n",
       "      <td>control</td>\n",
       "      <td>old_page</td>\n",
       "      <td>0</td>\n",
       "    </tr>\n",
       "    <tr>\n",
       "      <th>2</th>\n",
       "      <td>661590</td>\n",
       "      <td>2017-01-11 16:55:06.154213</td>\n",
       "      <td>treatment</td>\n",
       "      <td>new_page</td>\n",
       "      <td>0</td>\n",
       "    </tr>\n",
       "    <tr>\n",
       "      <th>3</th>\n",
       "      <td>853541</td>\n",
       "      <td>2017-01-08 18:28:03.143765</td>\n",
       "      <td>treatment</td>\n",
       "      <td>new_page</td>\n",
       "      <td>0</td>\n",
       "    </tr>\n",
       "    <tr>\n",
       "      <th>4</th>\n",
       "      <td>864975</td>\n",
       "      <td>2017-01-21 01:52:26.210827</td>\n",
       "      <td>control</td>\n",
       "      <td>old_page</td>\n",
       "      <td>1</td>\n",
       "    </tr>\n",
       "  </tbody>\n",
       "</table>\n",
       "</div>"
      ],
      "text/plain": [
       "   user_id                   timestamp      group landing_page  converted\n",
       "0   851104  2017-01-21 22:11:48.556739    control     old_page          0\n",
       "1   804228  2017-01-12 08:01:45.159739    control     old_page          0\n",
       "2   661590  2017-01-11 16:55:06.154213  treatment     new_page          0\n",
       "3   853541  2017-01-08 18:28:03.143765  treatment     new_page          0\n",
       "4   864975  2017-01-21 01:52:26.210827    control     old_page          1"
      ]
     },
     "execution_count": 2,
     "metadata": {},
     "output_type": "execute_result"
    }
   ],
   "source": [
    "df = pd.read_csv('ab_data.csv')\n",
    "df.head()"
   ]
  },
  {
   "cell_type": "markdown",
   "metadata": {},
   "source": [
    "**b.** Use the cell below to find the number of rows in the dataset."
   ]
  },
  {
   "cell_type": "code",
   "execution_count": 3,
   "metadata": {},
   "outputs": [
    {
     "name": "stdout",
     "output_type": "stream",
     "text": [
      "<class 'pandas.core.frame.DataFrame'>\n",
      "RangeIndex: 294478 entries, 0 to 294477\n",
      "Data columns (total 5 columns):\n",
      "user_id         294478 non-null int64\n",
      "timestamp       294478 non-null object\n",
      "group           294478 non-null object\n",
      "landing_page    294478 non-null object\n",
      "converted       294478 non-null int64\n",
      "dtypes: int64(2), object(3)\n",
      "memory usage: 11.2+ MB\n"
     ]
    }
   ],
   "source": [
    "df.info()"
   ]
  },
  {
   "cell_type": "markdown",
   "metadata": {},
   "source": [
    "**c.** The number of unique users in the dataset."
   ]
  },
  {
   "cell_type": "code",
   "execution_count": 4,
   "metadata": {},
   "outputs": [
    {
     "data": {
      "text/plain": [
       "290584"
      ]
     },
     "execution_count": 4,
     "metadata": {},
     "output_type": "execute_result"
    }
   ],
   "source": [
    "df['user_id'].nunique()"
   ]
  },
  {
   "cell_type": "markdown",
   "metadata": {
    "collapsed": true
   },
   "source": [
    "**d.** The proportion of users converted."
   ]
  },
  {
   "cell_type": "code",
   "execution_count": 5,
   "metadata": {},
   "outputs": [
    {
     "data": {
      "text/plain": [
       "0.11965919355605512"
      ]
     },
     "execution_count": 5,
     "metadata": {},
     "output_type": "execute_result"
    }
   ],
   "source": [
    "df['converted'].sum()/df['converted'].shape[0]"
   ]
  },
  {
   "cell_type": "markdown",
   "metadata": {
    "collapsed": true
   },
   "source": [
    "**e.** The number of times when the \"group\" is `treatment` but \"landing_page\" is not a `new_page`."
   ]
  },
  {
   "cell_type": "code",
   "execution_count": 17,
   "metadata": {},
   "outputs": [
    {
     "data": {
      "text/plain": [
       "3893"
      ]
     },
     "execution_count": 17,
     "metadata": {},
     "output_type": "execute_result"
    }
   ],
   "source": [
    "control_new,treatment_old = df.groupby('group')['landing_page'].value_counts()[1::2]\n",
    "mismatch = control_new+ treatment_old \n",
    "mismatch"
   ]
  },
  {
   "cell_type": "markdown",
   "metadata": {},
   "source": [
    "**f.** Do any of the rows have missing values?"
   ]
  },
  {
   "cell_type": "code",
   "execution_count": 18,
   "metadata": {},
   "outputs": [
    {
     "data": {
      "text/plain": [
       "user_id         0\n",
       "timestamp       0\n",
       "group           0\n",
       "landing_page    0\n",
       "converted       0\n",
       "dtype: int64"
      ]
     },
     "execution_count": 18,
     "metadata": {},
     "output_type": "execute_result"
    }
   ],
   "source": [
    "df.isnull().sum()"
   ]
  },
  {
   "cell_type": "markdown",
   "metadata": {},
   "source": [
    "### ToDo 1.2  \n",
    "In a particular row, the **group** and **landing_page** columns should have either of the following acceptable values:\n",
    "\n",
    "|user_id| timestamp|group|landing_page|converted|\n",
    "|---|---|---|---|---|\n",
    "|XXXX|XXXX|`control`| `old_page`|X |\n",
    "|XXXX|XXXX|`treatment`|`new_page`|X |\n",
    "\n",
    "\n",
    "It means, the `control` group users should match with `old_page`; and `treatment` group users should matched with the `new_page`. \n",
    "\n",
    "However, for the rows where `treatment` does not match with `new_page` or `control` does not match with `old_page`, we cannot be sure if such rows truly received the new or old wepage.  \n",
    "\n",
    "\n",
    "Use **Quiz 2** in the classroom to figure out how should we handle the rows where the group and landing_page columns don't match?\n",
    "\n",
    "**a.** Now use the answer to the quiz to create a new dataset that meets the specifications from the quiz.  Store your new dataframe in **df2**."
   ]
  },
  {
   "cell_type": "code",
   "execution_count": 19,
   "metadata": {},
   "outputs": [],
   "source": [
    "# Remove the inaccurate rows, and store the result in a new dataframe df2\n",
    "df2=df.drop(df.query('(group==\"control\" and landing_page !=\"old_page\") or (group==\"treatment\" and landing_page !=\"new_page\")').index)"
   ]
  },
  {
   "cell_type": "code",
   "execution_count": 20,
   "metadata": {},
   "outputs": [
    {
     "data": {
      "text/plain": [
       "0"
      ]
     },
     "execution_count": 20,
     "metadata": {},
     "output_type": "execute_result"
    }
   ],
   "source": [
    "# Double Check all of the incorrect rows were removed from df2 - \n",
    "# Output of the statement below should be 0\n",
    "df2[((df2['group'] == 'treatment') == (df2['landing_page'] == 'new_page')) == False].shape[0]"
   ]
  },
  {
   "cell_type": "markdown",
   "metadata": {},
   "source": [
    "### ToDo 1.3  \n",
    "Use **df2** and the cells below to answer questions for **Quiz 3** in the classroom."
   ]
  },
  {
   "cell_type": "markdown",
   "metadata": {},
   "source": [
    "**a.** How many unique **user_id**s are in **df2**?"
   ]
  },
  {
   "cell_type": "code",
   "execution_count": 21,
   "metadata": {},
   "outputs": [
    {
     "data": {
      "text/plain": [
       "290584"
      ]
     },
     "execution_count": 21,
     "metadata": {},
     "output_type": "execute_result"
    }
   ],
   "source": [
    "df2['user_id'].nunique()"
   ]
  },
  {
   "cell_type": "markdown",
   "metadata": {
    "collapsed": true
   },
   "source": [
    "**b.** There is one **user_id** repeated in **df2**.  What is it?"
   ]
  },
  {
   "cell_type": "code",
   "execution_count": 22,
   "metadata": {},
   "outputs": [
    {
     "data": {
      "text/html": [
       "<div>\n",
       "<style scoped>\n",
       "    .dataframe tbody tr th:only-of-type {\n",
       "        vertical-align: middle;\n",
       "    }\n",
       "\n",
       "    .dataframe tbody tr th {\n",
       "        vertical-align: top;\n",
       "    }\n",
       "\n",
       "    .dataframe thead th {\n",
       "        text-align: right;\n",
       "    }\n",
       "</style>\n",
       "<table border=\"1\" class=\"dataframe\">\n",
       "  <thead>\n",
       "    <tr style=\"text-align: right;\">\n",
       "      <th></th>\n",
       "      <th>user_id</th>\n",
       "      <th>timestamp</th>\n",
       "      <th>group</th>\n",
       "      <th>landing_page</th>\n",
       "      <th>converted</th>\n",
       "    </tr>\n",
       "  </thead>\n",
       "  <tbody>\n",
       "    <tr>\n",
       "      <th>1899</th>\n",
       "      <td>773192</td>\n",
       "      <td>2017-01-09 05:37:58.781806</td>\n",
       "      <td>treatment</td>\n",
       "      <td>new_page</td>\n",
       "      <td>0</td>\n",
       "    </tr>\n",
       "    <tr>\n",
       "      <th>2893</th>\n",
       "      <td>773192</td>\n",
       "      <td>2017-01-14 02:55:59.590927</td>\n",
       "      <td>treatment</td>\n",
       "      <td>new_page</td>\n",
       "      <td>0</td>\n",
       "    </tr>\n",
       "  </tbody>\n",
       "</table>\n",
       "</div>"
      ],
      "text/plain": [
       "      user_id                   timestamp      group landing_page  converted\n",
       "1899   773192  2017-01-09 05:37:58.781806  treatment     new_page          0\n",
       "2893   773192  2017-01-14 02:55:59.590927  treatment     new_page          0"
      ]
     },
     "execution_count": 22,
     "metadata": {},
     "output_type": "execute_result"
    }
   ],
   "source": [
    "df2[df2['user_id'].duplicated(keep=False)]"
   ]
  },
  {
   "cell_type": "markdown",
   "metadata": {},
   "source": [
    "**c.** Display the rows for the duplicate **user_id**? "
   ]
  },
  {
   "cell_type": "code",
   "execution_count": null,
   "metadata": {
    "collapsed": true
   },
   "outputs": [],
   "source": []
  },
  {
   "cell_type": "markdown",
   "metadata": {},
   "source": [
    "**d.** Remove **one** of the rows with a duplicate **user_id**, from the **df2** dataframe."
   ]
  },
  {
   "cell_type": "code",
   "execution_count": 23,
   "metadata": {},
   "outputs": [
    {
     "data": {
      "text/html": [
       "<div>\n",
       "<style scoped>\n",
       "    .dataframe tbody tr th:only-of-type {\n",
       "        vertical-align: middle;\n",
       "    }\n",
       "\n",
       "    .dataframe tbody tr th {\n",
       "        vertical-align: top;\n",
       "    }\n",
       "\n",
       "    .dataframe thead th {\n",
       "        text-align: right;\n",
       "    }\n",
       "</style>\n",
       "<table border=\"1\" class=\"dataframe\">\n",
       "  <thead>\n",
       "    <tr style=\"text-align: right;\">\n",
       "      <th></th>\n",
       "      <th>user_id</th>\n",
       "      <th>timestamp</th>\n",
       "      <th>group</th>\n",
       "      <th>landing_page</th>\n",
       "      <th>converted</th>\n",
       "    </tr>\n",
       "  </thead>\n",
       "  <tbody>\n",
       "  </tbody>\n",
       "</table>\n",
       "</div>"
      ],
      "text/plain": [
       "Empty DataFrame\n",
       "Columns: [user_id, timestamp, group, landing_page, converted]\n",
       "Index: []"
      ]
     },
     "execution_count": 23,
     "metadata": {},
     "output_type": "execute_result"
    }
   ],
   "source": [
    "# Remove one of the rows with a duplicate user_id..\n",
    "# Hint: The dataframe.drop_duplicates() may not work in this case because the rows with duplicate user_id are not entirely identical. \n",
    "df2=df2.drop(df2[df2['user_id'].duplicated(keep=False)].index)\n",
    "# Check again if the row with a duplicate user_id is deleted or not\n",
    "df2[df2['user_id'].duplicated(keep=False)]"
   ]
  },
  {
   "cell_type": "markdown",
   "metadata": {},
   "source": [
    "### ToDo 1.4  \n",
    "Use **df2** in the cells below to answer the quiz questions related to **Quiz 4** in the classroom.\n",
    "\n",
    "**a.** What is the probability of an individual converting regardless of the page they receive?<br><br>\n",
    "\n",
    ">**Tip**: The probability  you'll compute represents the overall \"converted\" success rate in the population and you may call it $p_{population}$.\n",
    "\n"
   ]
  },
  {
   "cell_type": "code",
   "execution_count": 24,
   "metadata": {},
   "outputs": [
    {
     "data": {
      "text/plain": [
       "0.11959749882133504"
      ]
     },
     "execution_count": 24,
     "metadata": {},
     "output_type": "execute_result"
    }
   ],
   "source": [
    "p_population=df2['converted'].sum()/df2['converted'].shape[0]\n",
    "p_population"
   ]
  },
  {
   "cell_type": "markdown",
   "metadata": {},
   "source": [
    "**b.** Given that an individual was in the `control` group, what is the probability they converted?"
   ]
  },
  {
   "cell_type": "code",
   "execution_count": 25,
   "metadata": {},
   "outputs": [
    {
     "data": {
      "text/plain": [
       "0.1203863045004612"
      ]
     },
     "execution_count": 25,
     "metadata": {},
     "output_type": "execute_result"
    }
   ],
   "source": [
    "df_control=df2.query('group ==\"control\"')\n",
    "p_control=df_control['converted'].sum()/df_control['converted'].shape[0]\n",
    "p_control"
   ]
  },
  {
   "cell_type": "markdown",
   "metadata": {},
   "source": [
    "**c.** Given that an individual was in the `treatment` group, what is the probability they converted?"
   ]
  },
  {
   "cell_type": "code",
   "execution_count": 26,
   "metadata": {},
   "outputs": [
    {
     "data": {
      "text/plain": [
       "0.11880888313869065"
      ]
     },
     "execution_count": 26,
     "metadata": {},
     "output_type": "execute_result"
    }
   ],
   "source": [
    "df_treatment=df2.query('group ==\"treatment\"')\n",
    "p_treatment=df_treatment['converted'].sum()/df_treatment['converted'].shape[0]\n",
    "p_treatment"
   ]
  },
  {
   "cell_type": "markdown",
   "metadata": {},
   "source": [
    ">**Tip**: The probabilities you've computed in the points (b). and (c). above can also be treated as conversion rate. \n",
    "Calculate the actual difference  (`obs_diff`) between the conversion rates for the two groups. You will need that later.  "
   ]
  },
  {
   "cell_type": "code",
   "execution_count": 27,
   "metadata": {},
   "outputs": [
    {
     "data": {
      "text/plain": [
       "-0.0015774213617705535"
      ]
     },
     "execution_count": 27,
     "metadata": {},
     "output_type": "execute_result"
    }
   ],
   "source": [
    "# Calculate the actual difference (obs_diff) between the conversion rates for the two groups.\n",
    "obs_diff=p_treatment-p_control\n",
    "obs_diff"
   ]
  },
  {
   "cell_type": "markdown",
   "metadata": {},
   "source": [
    "**d.** What is the probability that an individual received the new page?"
   ]
  },
  {
   "cell_type": "code",
   "execution_count": 28,
   "metadata": {},
   "outputs": [
    {
     "data": {
      "text/plain": [
       "0.50006022375706771"
      ]
     },
     "execution_count": 28,
     "metadata": {},
     "output_type": "execute_result"
    }
   ],
   "source": [
    "df_newpage=df2.query('landing_page == \"new_page\"')\n",
    "p_new=df_newpage['landing_page'].count()/df2.shape[0]\n",
    "p_new"
   ]
  },
  {
   "cell_type": "markdown",
   "metadata": {},
   "source": [
    "**e.** Consider your results from parts (a) through (d) above, and explain below whether the new `treatment` group users lead to more conversions."
   ]
  },
  {
   "cell_type": "markdown",
   "metadata": {},
   "source": [
    ">**Your answer goes here.**\n",
    "* From the results we can see that treatment group had lower Probability (0.1188) to convert compared to control group (0.12038) so we can assume that treatment group does not  lead to more conversions  but dispite that we can't be confident because the difference between the probability of both groups are small (-0.0015) and the probability of converting regardless of group are nearly equal to both groups probability"
   ]
  },
  {
   "cell_type": "markdown",
   "metadata": {},
   "source": [
    "<a id='ab_test'></a>\n",
    "## Part II - A/B Test\n",
    "\n",
    "Since a timestamp is associated with each event, you could run a hypothesis test continuously as long as you observe the events. \n",
    "\n",
    "However, then the hard questions would be: \n",
    "- Do you stop as soon as one page is considered significantly better than another or does it need to happen consistently for a certain amount of time?  \n",
    "- How long do you run to render a decision that neither page is better than another?  \n",
    "\n",
    "These questions are the difficult parts associated with A/B tests in general.  \n",
    "\n",
    "\n",
    "### ToDo 2.1\n",
    "For now, consider you need to make the decision just based on all the data provided.  \n",
    "\n",
    "> Recall that you just calculated that the \"converted\" probability (or rate) for the old page is *slightly* higher than that of the new page (ToDo 1.4.c). \n",
    "\n",
    "If you want to assume that the old page is better unless the new page proves to be definitely better at a Type I error rate of 5%, what should be your null and alternative hypotheses (**$H_0$** and **$H_1$**)?  \n",
    "\n",
    "You can state your hypothesis in terms of words or in terms of **$p_{old}$** and **$p_{new}$**, which are the \"converted\" probability (or rate) for the old and new pages respectively."
   ]
  },
  {
   "cell_type": "markdown",
   "metadata": {},
   "source": [
    ">**Put your answer here.**\n",
    "* Null hypothesis = the old page is better than or equal to the new page  \n",
    "* Alternative hypothesis = the new page is better than the old page"
   ]
  },
  {
   "cell_type": "markdown",
   "metadata": {},
   "source": [
    "### ToDo 2.2 - Null Hypothesis $H_0$ Testing\n",
    "Under the null hypothesis $H_0$, assume that $p_{new}$ and $p_{old}$ are equal. Furthermore, assume that $p_{new}$ and $p_{old}$ both are equal to the **converted** success rate in the `df2` data regardless of the page. So, our assumption is: <br><br>\n",
    "<center>\n",
    "$p_{new}$ = $p_{old}$ = $p_{population}$\n",
    "</center>\n",
    "\n",
    "In this section, you will: \n",
    "\n",
    "- Simulate (bootstrap) sample data set for both groups, and compute the  \"converted\" probability $p$ for those samples. \n",
    "\n",
    "\n",
    "- Use a sample size for each group equal to the ones in the `df2` data.\n",
    "\n",
    "\n",
    "- Compute the difference in the \"converted\" probability for the two samples above. \n",
    "\n",
    "\n",
    "- Perform the sampling distribution for the \"difference in the converted probability\" between the two simulated-samples over 10,000 iterations; and calculate an estimate. \n",
    "\n",
    "\n",
    "\n",
    "Use the cells below to provide the necessary parts of this simulation.  You can use **Quiz 5** in the classroom to make sure you are on the right track."
   ]
  },
  {
   "cell_type": "markdown",
   "metadata": {},
   "source": [
    "**a.** What is the **conversion rate** for $p_{new}$ under the null hypothesis? "
   ]
  },
  {
   "cell_type": "code",
   "execution_count": 29,
   "metadata": {},
   "outputs": [
    {
     "data": {
      "text/plain": [
       "0.11959749882133504"
      ]
     },
     "execution_count": 29,
     "metadata": {},
     "output_type": "execute_result"
    }
   ],
   "source": [
    "p_new = df2['converted'].sum()/df2['converted'].shape[0]\n",
    "p_new"
   ]
  },
  {
   "cell_type": "markdown",
   "metadata": {},
   "source": [
    "**b.** What is the **conversion rate** for $p_{old}$ under the null hypothesis? "
   ]
  },
  {
   "cell_type": "code",
   "execution_count": 30,
   "metadata": {},
   "outputs": [
    {
     "data": {
      "text/plain": [
       "0.11959749882133504"
      ]
     },
     "execution_count": 30,
     "metadata": {},
     "output_type": "execute_result"
    }
   ],
   "source": [
    "P_old =df2['converted'].sum()/df2['converted'].shape[0]\n",
    "P_old"
   ]
  },
  {
   "cell_type": "markdown",
   "metadata": {},
   "source": [
    "**c.** What is $n_{new}$, the number of individuals in the treatment group? <br><br>\n",
    "*Hint*: The treatment group users are shown the new page."
   ]
  },
  {
   "cell_type": "code",
   "execution_count": 31,
   "metadata": {},
   "outputs": [
    {
     "data": {
      "text/plain": [
       "145309"
      ]
     },
     "execution_count": 31,
     "metadata": {},
     "output_type": "execute_result"
    }
   ],
   "source": [
    "n_new=df2[df2['landing_page']=='new_page'].count()\n",
    "n_new=n_new['landing_page']\n",
    "n_new"
   ]
  },
  {
   "cell_type": "markdown",
   "metadata": {},
   "source": [
    "**d.** What is $n_{old}$, the number of individuals in the control group?"
   ]
  },
  {
   "cell_type": "code",
   "execution_count": 32,
   "metadata": {},
   "outputs": [
    {
     "data": {
      "text/plain": [
       "145274"
      ]
     },
     "execution_count": 32,
     "metadata": {},
     "output_type": "execute_result"
    }
   ],
   "source": [
    "n_old=df2[df2['landing_page']=='old_page'].count()\n",
    "n_old=n_old['landing_page']\n",
    "n_old"
   ]
  },
  {
   "cell_type": "markdown",
   "metadata": {},
   "source": [
    "**e. Simulate Sample for the `treatment` Group**<br> \n",
    "Simulate $n_{new}$ transactions with a conversion rate of $p_{new}$ under the null hypothesis.  <br><br>\n",
    "*Hint*: Use `numpy.random.choice()` method to randomly generate $n_{new}$ number of values. <br>\n",
    "Store these $n_{new}$ 1's and 0's in the `new_page_converted` numpy array.\n"
   ]
  },
  {
   "cell_type": "code",
   "execution_count": 33,
   "metadata": {},
   "outputs": [],
   "source": [
    "# Simulate a Sample for the treatment Group\n",
    "new_page_conversion = np.random.choice([1,0],p=[p_new,1-p_new],size=n_new)\n",
    "p_new_conversion = new_page_conversion.sum()/n_new"
   ]
  },
  {
   "cell_type": "markdown",
   "metadata": {},
   "source": [
    "**f. Simulate Sample for the `control` Group** <br>\n",
    "Simulate $n_{old}$ transactions with a conversion rate of $p_{old}$ under the null hypothesis. <br> Store these $n_{old}$ 1's and 0's in the `old_page_converted` numpy array."
   ]
  },
  {
   "cell_type": "code",
   "execution_count": 34,
   "metadata": {},
   "outputs": [],
   "source": [
    "# Simulate a Sample for the control Group\n",
    "old_page_conversion = np.random.choice([1,0],p=[P_old,1-P_old],size=n_old)\n",
    "p_old_conversion = old_page_conversion.sum()/n_old"
   ]
  },
  {
   "cell_type": "markdown",
   "metadata": {},
   "source": [
    "**g.** Find the difference in the \"converted\" probability $(p{'}_{new}$ - $p{'}_{old})$ for your simulated samples from the parts (e) and (f) above. "
   ]
  },
  {
   "cell_type": "code",
   "execution_count": 35,
   "metadata": {},
   "outputs": [
    {
     "data": {
      "text/plain": [
       "-5.667041940726758e-05"
      ]
     },
     "execution_count": 35,
     "metadata": {},
     "output_type": "execute_result"
    }
   ],
   "source": [
    "p_new_conversion-p_old_conversion"
   ]
  },
  {
   "cell_type": "markdown",
   "metadata": {},
   "source": [
    "\n",
    "**h. Sampling distribution** <br>\n",
    "Re-create `new_page_converted` and `old_page_converted` and find the $(p{'}_{new}$ - $p{'}_{old})$ value 10,000 times using the same simulation process you used in parts (a) through (g) above. \n",
    "\n",
    "<br>\n",
    "Store all  $(p{'}_{new}$ - $p{'}_{old})$  values in a NumPy array called `p_diffs`."
   ]
  },
  {
   "cell_type": "code",
   "execution_count": 36,
   "metadata": {},
   "outputs": [
    {
     "data": {
      "text/plain": [
       "[0.0014236182117673551,\n",
       " 0.00060428412268107023,\n",
       " 0.00029480317970974335,\n",
       " -6.3345054110736099e-05,\n",
       " 8.1254140393755003e-05,\n",
       " -0.00035244727843122825,\n",
       " -0.00028352064578594793,\n",
       " 0.00015694494038355489,\n",
       " -0.0015984500210748653,\n",
       " -0.00088219500373067083,\n",
       " 4.0073910064927776e-05,\n",
       " -2.1791771110918345e-05,\n",
       " 0.00036350100671680985,\n",
       " -0.0016392986490294803,\n",
       " 0.001574936807295868,\n",
       " -0.0016323570744147531,\n",
       " -9.771966679827937e-05,\n",
       " -0.00035932750660672141,\n",
       " -0.00030425252096534516,\n",
       " -0.0014464019003230938,\n",
       " 0.00030846747137221187,\n",
       " -0.0005723741683257566,\n",
       " -0.0002697436093162392,\n",
       " 0.0012929684869671526,\n",
       " 0.00028095816475333379,\n",
       " -0.00055205513810226148,\n",
       " -0.00017331430209956145,\n",
       " -0.0018184581535510835,\n",
       " 0.0012583136702734032,\n",
       " -0.00089612789331625087,\n",
       " 0.0013752841813042954,\n",
       " -0.0011370469662539545,\n",
       " 0.00010879992327381127,\n",
       " 0.00032934193557250524,\n",
       " 0.0015883988215100592,\n",
       " -0.0011025281065336345,\n",
       " 0.0024281862397814019,\n",
       " -0.00064808983849362622,\n",
       " 0.0010653903933770664,\n",
       " -0.0013433278026166035,\n",
       " 0.0013063757867896042,\n",
       " 0.0018084948286154479,\n",
       " -0.00026984474804037095,\n",
       " 0.00021200500391810317,\n",
       " 0.00082473494432687422,\n",
       " 0.00094854920727210912,\n",
       " -0.00067589758724929949,\n",
       " -0.00046931167670237472,\n",
       " -0.0003730813309102271,\n",
       " 0.0013270711857078371,\n",
       " 0.00058392530017266353,\n",
       " -0.0015704665230608511,\n",
       " -0.002024931319290782,\n",
       " -0.00094438897125698196,\n",
       " -0.00015964503640147898,\n",
       " 0.0018086108894464353,\n",
       " -0.0016184987953633823,\n",
       " -0.00020757451196799781,\n",
       " 0.00092114767142484344,\n",
       " -0.00084778723080572438,\n",
       " 0.00013644352885425204,\n",
       " -1.4511867330868622e-06,\n",
       " -0.0012056884208574148,\n",
       " 0.0031647287851235273,\n",
       " -0.0012469217075661149,\n",
       " -0.00051071739664568239,\n",
       " 0.00076279962665244672,\n",
       " 0.0012856571757051682,\n",
       " -8.4066981218919312e-05,\n",
       " 0.00082453266687859683,\n",
       " -0.0022584959726578424,\n",
       " 0.0014989823834185567,\n",
       " -0.0012952325258629716,\n",
       " -0.00065520716236668053,\n",
       " -0.00068264517447512441,\n",
       " 0.0013342680941507007,\n",
       " 0.0018228239830382215,\n",
       " -0.0018115397911025594,\n",
       " -9.0882546931445041e-05,\n",
       " 0.0010035064740706451,\n",
       " 0.00017807473841201238,\n",
       " -0.0010543449551508322,\n",
       " -0.00012546772712659915,\n",
       " -6.3000187641562566e-05,\n",
       " 0.00034269120497947003,\n",
       " -0.00031771950921515024,\n",
       " -0.0012402984712306386,\n",
       " 0.0001228405836310037,\n",
       " -0.0014329365700851415,\n",
       " -9.7540601516205028e-05,\n",
       " 1.2589473624105563e-05,\n",
       " 0.0011619689216621487,\n",
       " -0.0009030976541327812,\n",
       " -0.00018027079882113051,\n",
       " -0.00021496872382352483,\n",
       " -0.00082050341380129899,\n",
       " -0.0015635415285648463,\n",
       " -0.00017316673904303748,\n",
       " -0.00073087143416655787,\n",
       " 0.000205152961944427,\n",
       " 0.0013893497118395715,\n",
       " 0.00030850063160962893,\n",
       " -0.0007514690103843924,\n",
       " -9.7520705373763117e-05,\n",
       " 0.0010103833862224049,\n",
       " 0.0016920615134307787,\n",
       " -0.0014811164054441966,\n",
       " -0.00014579007337384153,\n",
       " 0.00049436461504838436,\n",
       " -0.0017561514412175461,\n",
       " 0.0016163159990492254,\n",
       " 0.0017195210796935312,\n",
       " -0.00027657078111185951,\n",
       " -0.00049006179001236105,\n",
       " -0.0017013516855467481,\n",
       " 0.00094202213562515069,\n",
       " 0.0010104298105547971,\n",
       " 0.00060440515754767166,\n",
       " 0.0022423172823070325,\n",
       " -0.00048299420649543234,\n",
       " -0.00079970521814705375,\n",
       " 0.0011482283614536043,\n",
       " -0.00072397628388422286,\n",
       " -0.00068261367224957403,\n",
       " -0.0019696358180705392,\n",
       " -0.0027271871265745345,\n",
       " -0.00098549459105161386,\n",
       " 0.0010997152657084702,\n",
       " -0.0023072345580174569,\n",
       " 0.0017262769569786895,\n",
       " -0.0018253019054654124,\n",
       " -0.0007580358743162624,\n",
       " 0.00048061244875675924,\n",
       " 0.00063863386519054377,\n",
       " -0.00074456888606644345,\n",
       " 0.00023963037136795484,\n",
       " -0.00010427492464704091,\n",
       " 0.00034306923168607451,\n",
       " 0.00016392133324757974,\n",
       " -0.0014053360728133596,\n",
       " -6.3355002181977871e-05,\n",
       " 0.00034274591937122345,\n",
       " -0.0007516033093459551,\n",
       " -0.00066885653192232108,\n",
       " -0.00095792393799351561,\n",
       " 0.00039789551554680891,\n",
       " 0.0024562012400209665,\n",
       " 0.00050132608580556737,\n",
       " -0.00073777653252012076,\n",
       " 0.0014097599327159704,\n",
       " -0.0017151585662301266,\n",
       " 0.00026015499506347461,\n",
       " 0.0026071749690802781,\n",
       " 0.0021254363039171636,\n",
       " -0.0015912481385963739,\n",
       " -0.0017908112319469094,\n",
       " 0.0027586245475465926,\n",
       " -0.0037730729999027185,\n",
       " 0.00034965930778413368,\n",
       " 0.0012444006768302651,\n",
       " 0.00023276672331117021,\n",
       " 0.00046011435325118977,\n",
       " 0.0015197540508828655,\n",
       " -0.00012510959656245046,\n",
       " -0.00034550570381650103,\n",
       " 0.00054261242889415418,\n",
       " -0.00022858824916548171,\n",
       " -0.00079282830599530785,\n",
       " 0.0012789891730491804,\n",
       " -0.00059311267555264835,\n",
       " 0.00070787552009132781,\n",
       " -0.00086174333255749358,\n",
       " 4.6892791801200762e-05,\n",
       " -0.00063449186730600571,\n",
       " -0.00063434596226136231,\n",
       " -0.0014052946225165813,\n",
       " 0.00039095394093208169,\n",
       " 0.0014305481802989878,\n",
       " 0.00041844335140850397,\n",
       " -0.0014741350385445717,\n",
       " -0.0021349735198019359,\n",
       " -0.00035911362307536332,\n",
       " 0.00076262387739411963,\n",
       " -0.00010449212420216014,\n",
       " 0.0009758346822884012,\n",
       " -0.002430934418143571,\n",
       " 0.00061810924149503788,\n",
       " -0.00077916898836845327,\n",
       " 0.00093473237851750268,\n",
       " 1.255797139855519e-05,\n",
       " -0.00032485175519504639,\n",
       " -0.001302253685047508,\n",
       " 0.00098281770719989281,\n",
       " -0.0020318347596324782,\n",
       " 0.0022630408674270547,\n",
       " 0.00061820872220730294,\n",
       " 0.00046641593528366776,\n",
       " 0.00080412410401406453,\n",
       " 0.00072842667197678401,\n",
       " -0.00064821087336022765,\n",
       " -0.0017150126611854832,\n",
       " 0.0011138006923861882,\n",
       " 0.0016436495564097764,\n",
       " 0.0010450067006906039,\n",
       " -1.2157490474062893e-06,\n",
       " -0.00014582489162312529,\n",
       " -0.0012746084214552006,\n",
       " 0.0016713246642157675,\n",
       " -0.00095792227998163504,\n",
       " -0.00078589004740431401,\n",
       " 0.00033589221938566671,\n",
       " 0.0022837992707964022,\n",
       " -0.00096500146958167221,\n",
       " 0.0012030596193499388,\n",
       " 0.00084529438627167774,\n",
       " 0.0016644577001352356,\n",
       " -0.00029074076639500068,\n",
       " 0.0016024063216298345,\n",
       " 0.00050803388074646683,\n",
       " 0.0012034790963533215,\n",
       " 0.0004325685703711335,\n",
       " 0.001010701724501642,\n",
       " -0.0015567823352559268,\n",
       " 0.0022837810326658131,\n",
       " 0.00017048985519131643,\n",
       " 1.9477991858946053e-05,\n",
       " 0.00034294488079575358,\n",
       " -0.00044864612199783938,\n",
       " 0.001402486755727031,\n",
       " 0.00098962498285305733,\n",
       " -0.00040729677445813794,\n",
       " 0.00019830755201821759,\n",
       " -0.0022380675136508682,\n",
       " -0.0012883058733550862,\n",
       " 0.0032473163934075427,\n",
       " -0.0014260646319690096,\n",
       " -0.0013779726712391249,\n",
       " -0.0005175346203700748,\n",
       " 0.0013753621078622519,\n",
       " 0.00067991026020790268,\n",
       " -0.00081330153132280758,\n",
       " -0.0021830555324605788,\n",
       " -0.0013640646518316007,\n",
       " 0.00033601159624038757,\n",
       " 0.00039098378514575149,\n",
       " -0.0016669919949660467,\n",
       " -0.00024905815846923418,\n",
       " -0.0011162985109558488,\n",
       " 0.00042565849798195665,\n",
       " -0.00077916733035658658,\n",
       " -0.00082040393308903392,\n",
       " 0.00053533261985772018,\n",
       " 0.0013894790367655202,\n",
       " -0.00084787842145861436,\n",
       " -0.00044179242201226876,\n",
       " -0.0005726328181776541,\n",
       " 0.00041863236476182009,\n",
       " -0.0011989043573704394,\n",
       " -0.0011230974965496521,\n",
       " -0.00096468644732615461,\n",
       " 0.0026069776656676147,\n",
       " 0.001719507815598556,\n",
       " -4.9478485000004069e-05,\n",
       " -0.0026374888264649593,\n",
       " -0.0016187789993695884,\n",
       " 6.7588190719419794e-05,\n",
       " -0.00046937468115347547,\n",
       " -0.001219369292638578,\n",
       " -0.0013432979584029336,\n",
       " 0.00024657857803017658,\n",
       " 0.0019808155552583223,\n",
       " 0.00032225445591313462,\n",
       " 0.00074176101927690696,\n",
       " -0.0010471845229691329,\n",
       " 0.00076944773316599269,\n",
       " -0.0023206451738636558,\n",
       " 0.00021189889115835747,\n",
       " 0.0019534289415179124,\n",
       " 0.00010194124925262671,\n",
       " 0.00061115606079721607,\n",
       " -0.00069626304180518683,\n",
       " -0.0022380956998526713,\n",
       " 0.0021117371940053975,\n",
       " 8.1307196773627854e-05,\n",
       " -0.0022449427677907474,\n",
       " -9.0846070670280721e-05,\n",
       " -0.0013985503513145175,\n",
       " 0.0021873384613541602,\n",
       " -0.0001940063849940471,\n",
       " 0.00032905841554255189,\n",
       " -6.3409716573717412e-05,\n",
       " -0.0019006975793421643,\n",
       " -0.00044177749990542692,\n",
       " 0.00056289000882087104,\n",
       " -0.0027751099700935727,\n",
       " -0.00056579404029892533,\n",
       " 0.0012031325718722674,\n",
       " 3.9811944189296899e-05,\n",
       " 0.00062494304533813883,\n",
       " 0.00078322642764756811,\n",
       " -0.0018528526623810826,\n",
       " -0.001495057585089124,\n",
       " -0.00075826633796632903,\n",
       " -0.00023540713090174081,\n",
       " 0.0016643549033992372,\n",
       " 0.0010997998243138934,\n",
       " 0.0013888473342426322,\n",
       " 0.0010930024967319568,\n",
       " -0.00066908865358426828,\n",
       " 0.00093484180730098176,\n",
       " -0.00059328345077537537,\n",
       " -0.0013778151601113731,\n",
       " 0.001753675176802208,\n",
       " -0.00084791655573165925,\n",
       " -0.00020775191923819158,\n",
       " -0.00026967894685327176,\n",
       " -0.0020524306778384321,\n",
       " 0.0024284598117401274,\n",
       " 0.00083157869624120306,\n",
       " 0.00021909911562496831,\n",
       " -0.00067584287285757383,\n",
       " -0.00019396327668540214,\n",
       " 0.00058327867554296142,\n",
       " -0.00013883855068788642,\n",
       " 0.0019053519028948696,\n",
       " 0.0014094847027453783,\n",
       " 0.0016575443117223254,\n",
       " -0.0026992284987386039,\n",
       " 0.0010930853973255134,\n",
       " 5.4071462113475244e-05,\n",
       " 0.00066661073115706349,\n",
       " -0.001425854064461371,\n",
       " 0.0016919371625404439,\n",
       " 0.0011480559282190106,\n",
       " -7.7024267880060338e-05,\n",
       " 0.0010104480486853723,\n",
       " 0.0011617169038577319,\n",
       " 0.00020531710511964563,\n",
       " 0.00090040253215047106,\n",
       " 0.0013818825474617158,\n",
       " -0.0015015829987242157,\n",
       " -0.0011162487705997232,\n",
       " 0.00012984018866121771,\n",
       " -0.001095573267823946,\n",
       " 0.00013623296134661345,\n",
       " -0.00020764083244283194,\n",
       " 0.00040495480900437641,\n",
       " -0.0016392986490294803,\n",
       " 0.0016712334735628498,\n",
       " 0.0025179409122945973,\n",
       " -0.00056566637338487102,\n",
       " 0.00015020066918149111,\n",
       " -0.00035227152917288729,\n",
       " -0.00048997723140692395,\n",
       " -5.6449903828414971e-05,\n",
       " -9.1018503904860548e-05,\n",
       " -0.00055179814626225843,\n",
       " -0.00083383610308955525,\n",
       " -0.00053114585565267047,\n",
       " 0.001740116997899499,\n",
       " 0.0011275130663929156,\n",
       " -0.0021279424125461716,\n",
       " -0.00070361082932833552,\n",
       " -0.00046953882432872185,\n",
       " 0.0005149704813255801,\n",
       " -0.00076518635842673377,\n",
       " -0.0014467185805904642,\n",
       " 0.00183634568567978,\n",
       " 0.00034275420943058466,\n",
       " -0.00181140383412913,\n",
       " -0.00051066765628954292,\n",
       " 0.00032890422043854728,\n",
       " 0.001547251751418649,\n",
       " 0.00074871751599847602,\n",
       " 0.0015540374729174911,\n",
       " 0.00026717283822426385,\n",
       " 0.00047363273986900101,\n",
       " -0.00018033214526036456,\n",
       " -0.00041415876450305589,\n",
       " -0.0014263033856784374,\n",
       " -0.00056546575394846033,\n",
       " 0.00056327300956308946,\n",
       " 0.00028071941104389209,\n",
       " -0.00070342844802251392,\n",
       " 0.001320394892992488,\n",
       " 0.00066668699970313938,\n",
       " 0.0035914836552981833,\n",
       " 0.00050814662555370704,\n",
       " -0.0023549849683018875,\n",
       " 0.0010380170437316177,\n",
       " -0.0019010938441793579,\n",
       " -0.0003248401491119518,\n",
       " 0.00015023382941890817,\n",
       " -0.00013892974134080416,\n",
       " 0.0021874213619477167,\n",
       " -0.00025601133916706986,\n",
       " 0.0018913327966919996,\n",
       " -3.5596993782430197e-05,\n",
       " 0.0013547147912882779,\n",
       " 0.00094110193903670925,\n",
       " -0.00072384530094640742,\n",
       " -0.00040043478441323388,\n",
       " -0.0013845511412540895,\n",
       " 5.5965006413721818e-06,\n",
       " 0.00055618055586810489,\n",
       " 0.0023113831879494756,\n",
       " 0.00052862814094056798,\n",
       " 0.00015037310241608481,\n",
       " 0.0027381911145039906,\n",
       " 0.0016230304260376055,\n",
       " 0.00045282459614352788,\n",
       " -0.0018113706738917129,\n",
       " 0.001175701191811318,\n",
       " -0.00083393060976619249,\n",
       " -0.0002906313376115216,\n",
       " -0.00089608810103133929,\n",
       " -3.5878855800516862e-05,\n",
       " 0.00040476911167480756,\n",
       " -0.0017426628988133908,\n",
       " -0.00092365543806571804,\n",
       " 0.0014647719139062598,\n",
       " -0.0013293700428529537,\n",
       " 0.00071437606354836369,\n",
       " -0.00086162395570277273,\n",
       " -0.00071696507277091426,\n",
       " 3.3303110672913694e-05,\n",
       " -0.00047629304360199964,\n",
       " 0.0010311467636273386,\n",
       " 0.00244232803886274,\n",
       " -0.0002560179712145505,\n",
       " 0.00035650471771032921,\n",
       " -0.00060010896455911511,\n",
       " 0.0015062174261344652,\n",
       " -2.1738714731045494e-05,\n",
       " 0.0020498267465090397,\n",
       " -0.00074469655298052551,\n",
       " 0.0010584720309285284,\n",
       " 0.0028067049021933826,\n",
       " 0.0021667757033856094,\n",
       " -0.0018595720634050766,\n",
       " 0.00042547611667614893,\n",
       " 0.0008312653319975799,\n",
       " -8.2700684693598481e-06,\n",
       " -0.0011301252877816692,\n",
       " 0.00043914040833860357,\n",
       " 0.00019137260945097101,\n",
       " 0.0018227526885277595,\n",
       " -0.0020251103845728563,\n",
       " 0.0003222262697113315,\n",
       " 0.0019396369829413618,\n",
       " -0.00035928274028620977,\n",
       " -0.0017700113782807975,\n",
       " 8.7993437560204835e-05,\n",
       " -0.00086145318048005959,\n",
       " -0.00017992261632819584,\n",
       " 0.0012307463332390384,\n",
       " -0.0017080014500721746,\n",
       " -0.0007035345607822735,\n",
       " 0.00083824172486159088,\n",
       " 0.00032910318186307741,\n",
       " -0.00063483507576331255,\n",
       " -0.0016049356424250455,\n",
       " 0.0010654766099943702,\n",
       " 1.9507836072629736e-05,\n",
       " -0.0017975787153151623,\n",
       " 0.00045291081276081779,\n",
       " 0.0014575153170360289,\n",
       " -0.002658094692742155,\n",
       " 0.0014233844320935413,\n",
       " 0.00055629827471094517,\n",
       " -0.00057245706891931314,\n",
       " -0.00090961477770852561,\n",
       " 0.001416557260297921,\n",
       " 0.00072850294052284603,\n",
       " 0.001443814549112396,\n",
       " -0.00065517897616487741,\n",
       " -0.0017153409475359621,\n",
       " -0.0013503124855399756,\n",
       " 0.00029435717451642418,\n",
       " -0.0017152149386337606,\n",
       " 0.0017265024465931561,\n",
       " 0.0010241620807039664,\n",
       " 0.0016988091006565897,\n",
       " -0.00095779295505570017,\n",
       " 0.0010722059590895783,\n",
       " 0.0016987809144547866,\n",
       " 0.001251448364204738,\n",
       " -0.00034543606731791965,\n",
       " -0.00043495530214542055,\n",
       " 0.0012650463353923586,\n",
       " -0.00080646275344409268,\n",
       " 0.00098971451549410838,\n",
       " 0.001031140131579858,\n",
       " -0.0017423909848665459,\n",
       " 0.00037042434320094797,\n",
       " 0.00012921843420955759,\n",
       " 0.00028753829278015119,\n",
       " 0.0004185942304887752,\n",
       " -0.00057913501964654279,\n",
       " 0.00063203715704501784,\n",
       " -0.0022039051264828163,\n",
       " 0.00092078125080134743,\n",
       " -0.00019414399997934317,\n",
       " -0.00039359766454638567,\n",
       " -0.00021457577501007852,\n",
       " 0.00085194912483270435,\n",
       " -0.0012402238606964433,\n",
       " -0.00095769679036718236,\n",
       " 0.00026016494313470251,\n",
       " 0.00051479307405538632,\n",
       " -0.00042774347159571513,\n",
       " -0.00036592421475226122,\n",
       " -0.0024515137562308303,\n",
       " 0.0012924230010615684,\n",
       " -0.00042819942486026219,\n",
       " 0.0011549278663351564,\n",
       " -0.0012333668446871393,\n",
       " 1.2582841576624926e-05,\n",
       " 0.00052180262715681436,\n",
       " 0.0012446493786109347,\n",
       " 0.00053554981941283941,\n",
       " -0.00066189506116515195,\n",
       " 0.0005631718708389577,\n",
       " 0.00071469605983946749,\n",
       " -0.00042111691923649164,\n",
       " -0.0010821692840252278,\n",
       " 0.00063178513924060098,\n",
       " -0.0023070273065335656,\n",
       " -0.0013365553452127227,\n",
       " 0.00065251038237251757,\n",
       " -0.0016806148363317508,\n",
       " -0.0013159196347218433,\n",
       " -0.00060674214896581924,\n",
       " 0.00056307902217417327,\n",
       " -0.00079975495850319323,\n",
       " 0.00068011585367991345,\n",
       " -0.00073768036783158908,\n",
       " -0.0032155622921681143,\n",
       " 6.7820312381366987e-05,\n",
       " -0.0011229930418017731,\n",
       " -0.00075812374894543288,\n",
       " 0.00090030305143821987,\n",
       " -0.0023275403241459908,\n",
       " 0.0015400946352606831,\n",
       " 0.00041159628347042787,\n",
       " -0.00039335227878946333,\n",
       " 8.1428231640215398e-05,\n",
       " 0.00066623767848608684,\n",
       " 0.0022562767000825351,\n",
       " 0.00095541617135262713,\n",
       " 0.00096230303157561481,\n",
       " 0.00083841581610805127,\n",
       " 0.0024145799785344063,\n",
       " 0.0020086382261208374,\n",
       " 0.0015127527878407709,\n",
       " 0.0005286646172017323,\n",
       " -2.8940597209523022e-05,\n",
       " 0.00067335168633539388,\n",
       " 0.00015033828416678718,\n",
       " -0.0020526296392629623,\n",
       " 1.2541391279846659e-05,\n",
       " 0.00039103684152563822,\n",
       " 0.0019947186006302325,\n",
       " -0.002175997897014878,\n",
       " -7.7304471886266435e-05,\n",
       " -0.00080661197451249722,\n",
       " 0.00041827257618577696,\n",
       " -0.00093717382468352928,\n",
       " 0.00076271341003514292,\n",
       " -0.0020108972909810702,\n",
       " 5.3928873092565222e-05,\n",
       " -0.00028325038985095585,\n",
       " -0.00060672225282337733,\n",
       " 0.001251229506637766,\n",
       " 0.00086543435121309853,\n",
       " -0.00060690297611731836,\n",
       " 0.0006044316857375942,\n",
       " -0.00018691890533467648,\n",
       " 0.0014854059663852587,\n",
       " -0.0021899738949091169,\n",
       " -0.0002559417026684746,\n",
       " -0.00011136240430642541,\n",
       " 0.0010313639631824578,\n",
       " -0.0017221333010822848,\n",
       " 0.00089343774536956855,\n",
       " -0.001749342507552501,\n",
       " 0.001327371285856499,\n",
       " -0.00046252098116793261,\n",
       " -0.00088222982197996846,\n",
       " -0.0015155274943928904,\n",
       " 0.0003084741034196925,\n",
       " -0.0012126830518520149,\n",
       " -0.00050386535467199234,\n",
       " -2.894391323327028e-05,\n",
       " 1.2372274069000211e-05,\n",
       " 0.00066638524154261081,\n",
       " 0.00018480408750723432,\n",
       " 0.0011966701626882764,\n",
       " -0.0002902848131304675,\n",
       " 0.00018466149848632429,\n",
       " 0.0010175023681073259,\n",
       " 0.00054247149788511084,\n",
       " -0.0011990685005456581,\n",
       " -0.001529418933681706,\n",
       " 0.0014577822569472737,\n",
       " -0.00050389519888567602,\n",
       " -0.001157649516507403,\n",
       " -0.0012402619949694743,\n",
       " -0.0014328636175628129,\n",
       " -0.0009509525191651047,\n",
       " 4.6916003967376052e-05,\n",
       " -0.00024197399483361082,\n",
       " 0.00017062249614099856,\n",
       " -0.0012609839220776436,\n",
       " -0.0022585855052988935,\n",
       " 0.00024643764702113324,\n",
       " -0.001026945077315447,\n",
       " -0.0013915888805573345,\n",
       " 0.00018445590501431353,\n",
       " 5.4257254186451664e-06,\n",
       " 0.00041178861284747736,\n",
       " 0.002373404722241193,\n",
       " -0.00053124367835306885,\n",
       " 0.0016505662608464339,\n",
       " -0.00051747327393084075,\n",
       " 0.00094141364526846572,\n",
       " -0.00020054174670036673,\n",
       " 0.00061820209015980843,\n",
       " -0.001425734687606664,\n",
       " 0.0020014678458679103,\n",
       " -0.00033141032906755519,\n",
       " 0.00025316699611635518,\n",
       " 0.0013615535691669928,\n",
       " -0.0013778847966099683,\n",
       " -0.0010268091203420177,\n",
       " -0.00068280600162662353,\n",
       " -0.00049686906566552558,\n",
       " 0.0015749152531415456,\n",
       " 0.0012307496492627717,\n",
       " -0.00040736475294485264,\n",
       " 0.0011137426619707014,\n",
       " 0.0019466084017697727,\n",
       " 0.0014096372398375162,\n",
       " -0.0029817290408779284,\n",
       " -0.0022037343512601032,\n",
       " -0.0011782470927252375,\n",
       " -0.0014052266440298666,\n",
       " -0.00011145027893559589,\n",
       " 1.248501887622655e-05,\n",
       " -0.00085468072307617882,\n",
       " -0.0012261715942561424,\n",
       " -0.0016327384171451048,\n",
       " -0.0011852168535417679,\n",
       " 0.00073521736751124001,\n",
       " 0.00014336023329089564,\n",
       " 0.00027395026966375857,\n",
       " -0.0010408779669010271,\n",
       " 0.0034193486259848638,\n",
       " 0.00076953063375954922,\n",
       " 0.0010446750983163777,\n",
       " -0.0012401824103996512,\n",
       " -0.00029760938848739926,\n",
       " -0.001047383484393663,\n",
       " -0.0017216392135447067,\n",
       " 0.00030846083932471735,\n",
       " 0.0024763710491760571,\n",
       " 0.00052859663871501761,\n",
       " -0.00013874072798748804,\n",
       " -0.00029728939219629547,\n",
       " 0.00053537572816636514,\n",
       " -0.00013907564638544756,\n",
       " -0.0012331529611557673,\n",
       " 0.00072133587629366613,\n",
       " -0.0003108757573008214,\n",
       " -0.00058638995850489317,\n",
       " 0.00062466118332006604,\n",
       " -0.00040041488827077809,\n",
       " 0.00026005551435119567,\n",
       " -0.001625680781699404,\n",
       " 0.00055605952100150347,\n",
       " -0.00064145997011066935,\n",
       " 0.00081081366082438877,\n",
       " 0.00045993197194535429,\n",
       " -0.0018045252639655035,\n",
       " 0.00036356566917977728,\n",
       " 0.0018914621216179345,\n",
       " -0.00072397462587234229,\n",
       " -0.0010196652682790269,\n",
       " -0.0012265247507846772,\n",
       " 0.001065549562516685,\n",
       " 0.00052179267908558646,\n",
       " 0.0021600463542903875,\n",
       " 0.00086587206634707037,\n",
       " -0.00012528700383264424,\n",
       " 0.0018017024750691252,\n",
       " -1.1013462282993824e-06,\n",
       " 0.0012238528409685562,\n",
       " -0.00028355214801149831,\n",
       " 0.001044968566417559,\n",
       " 0.0014716106917849747,\n",
       " 0.00095551565206490607,\n",
       " 0.00016393128131879375,\n",
       " -0.0015706505623785394,\n",
       " 1.9227632066423639e-05,\n",
       " -0.001212711238053818,\n",
       " 0.00083164667472791776,\n",
       " -0.00099233834296595658,\n",
       " 0.0011000336039877212,\n",
       " -0.0012265264087965577,\n",
       " 0.0010793697072950387,\n",
       " -0.0010543350070796043,\n",
       " 0.0011482383095248322,\n",
       " -0.00088930735356812507,\n",
       " -0.003649076355651662,\n",
       " 0.00019847666922906404,\n",
       " -0.0010543068208778011,\n",
       " 0.00042551425094917994,\n",
       " -0.0020936788866539879,\n",
       " -0.00053116243577139288,\n",
       " 0.00019173074001511969,\n",
       " -0.0021555710960197566,\n",
       " 0.00096233287578928461,\n",
       " -0.0015360819623020799,\n",
       " -0.00031118746353257787,\n",
       " -0.00086843288936781782,\n",
       " -0.00069646200322971696,\n",
       " -0.001956041162906666,\n",
       " -0.00066206086235225114,\n",
       " -0.00011120489317868743,\n",
       " 4.0150178610989795e-05,\n",
       " 9.5114077457006396e-05,\n",
       " 0.0011411375657704864,\n",
       " -0.00052466355032623757,\n",
       " -0.0012403034452662526,\n",
       " 0.00027386405304645478,\n",
       " 0.00022574059009103364,\n",
       " 0.0012377426222454913,\n",
       " -0.00031088736338391598,\n",
       " 0.0012099763237865963,\n",
       " -0.00033862713365287456,\n",
       " 0.0029169593282240142,\n",
       " -2.9001943648757078e-05,\n",
       " -0.001769989824126475,\n",
       " -0.0017978008889058816,\n",
       " 0.0024557900530769311,\n",
       " 0.0013750470856067343,\n",
       " -0.00044858974959420539,\n",
       " 0.0018778558603709528,\n",
       " 0.0011345076973875157,\n",
       " -0.00038686334141554979,\n",
       " 0.001127634101259517,\n",
       " -0.00066894772257523882,\n",
       " -0.0023275850904665024,\n",
       " 0.00045299205534250764,\n",
       " 0.0007830738905554302,\n",
       " 0.00044638871514948719,\n",
       " 0.0010518288984506102,\n",
       " -0.0013571628695017851,\n",
       " 0.0020428271414788257,\n",
       " -0.000262682657846805,\n",
       " -0.0018528526623810826,\n",
       " 4.6992272513451949e-05,\n",
       " -0.0015361317026582194,\n",
       " -0.0021833058922531151,\n",
       " -0.00018016966009699875,\n",
       " 0.0012857201801562829,\n",
       " -0.0014808925738416107,\n",
       " 0.00044606871885836952,\n",
       " 0.00020499545081666126,\n",
       " -0.00074473468725355652,\n",
       " 0.00014318780005631582,\n",
       " -0.0031670624605179415,\n",
       " -0.00098552111924156416,\n",
       " -0.00089594882803417653,\n",
       " 0.0009828674475560184,\n",
       " -0.00017344031100176294,\n",
       " -8.2534883506513168e-06,\n",
       " 4.0113702349839353e-05,\n",
       " -1.507900213440494e-05,\n",
       " 0.00096951983616093418,\n",
       " 0.0021116708735305634,\n",
       " 0.00019833242219627345,\n",
       " -0.00039367393309244769,\n",
       " -0.0014601673307096802,\n",
       " 0.00091410330007411777,\n",
       " -0.0022728649193655276,\n",
       " -0.0012880339594082413,\n",
       " 0.00056310223434036244,\n",
       " 0.00078329938016988288,\n",
       " -4.9304393753543674e-05,\n",
       " -0.0018457817628404066,\n",
       " -0.0019972446054016962,\n",
       " -0.00046257403754779158,\n",
       " 0.00054265387919093244,\n",
       " 0.00081788124434131748,\n",
       " -0.0012195284617782104,\n",
       " -0.0011300324391168987,\n",
       " -0.00029740711103913575,\n",
       " 0.0011826261863073367,\n",
       " -0.0012538384120027724,\n",
       " 0.00088656249122968933,\n",
       " 0.0017952201697426784,\n",
       " -0.0015773600153313194,\n",
       " 6.7717515645354664e-05,\n",
       " 0.0024628112122614815,\n",
       " -0.0009096446219222093,\n",
       " 0.00070782246371145496,\n",
       " 0.0015199646183904764,\n",
       " 0.00011581113438711987,\n",
       " -0.00077242803319012288,\n",
       " -0.00046251269110857141,\n",
       " 0.0007282376586234679,\n",
       " -6.3447850846748421e-05,\n",
       " -0.00012503664404012182,\n",
       " -0.00064133561922033455,\n",
       " 0.00044609193102455869,\n",
       " 0.00030147118236574511,\n",
       " 0.0009071186171507456,\n",
       " -0.0016256061711652087,\n",
       " 0.0029378337924243214,\n",
       " -0.00068938447164157424,\n",
       " 3.9926347008403806e-05,\n",
       " 0.00057691408905936881,\n",
       " 0.00052865135310675715,\n",
       " 0.00041188146151226179,\n",
       " -0.00035946180556828411,\n",
       " -0.00074452577775779849,\n",
       " 0.0012444620232694992,\n",
       " -0.00076509350976196322,\n",
       " -0.00024219451041244955,\n",
       " 0.00063207363330616828,\n",
       " -0.0010748795269175798,\n",
       " -0.00042802201759005454,\n",
       " 0.00012254545751795576,\n",
       " 0.00098294869013770825,\n",
       " -0.0010611538888158772,\n",
       " 0.00036349769069306259,\n",
       " 0.00036358059128661913,\n",
       " -4.2525304302182265e-05,\n",
       " -0.00040749905190641533,\n",
       " -0.0010611654948989718,\n",
       " -0.00030442661221180556,\n",
       " 0.0010038115482549209,\n",
       " 0.001361296577326962,\n",
       " 0.00053560950784020678,\n",
       " 0.00053548018291425803,\n",
       " -9.0804620373488576e-05,\n",
       " -0.0011438641899783469,\n",
       " 0.0011894914923760019,\n",
       " 0.00028081889175614327,\n",
       " -0.0009235907756027506,\n",
       " -0.001116568766890827,\n",
       " -0.00026981490382670115,\n",
       " 0.00048738656417249282,\n",
       " 0.00041170239623018745,\n",
       " -0.00021463048940183194,\n",
       " 0.0017949863900688645,\n",
       " 0.0019467708869331385,\n",
       " 0.00048061244875675924,\n",
       " 0.0014854523907176509,\n",
       " 3.2973166310582003e-05,\n",
       " -0.001591205030287729,\n",
       " 0.0011964380410263292,\n",
       " -2.8915727031467164e-05,\n",
       " 0.00034262156848090253,\n",
       " -0.00085475699162225471,\n",
       " 0.0012788067917433588,\n",
       " -0.0004762084849965903,\n",
       " -0.0025271929501375356,\n",
       " -0.0012472218077147768,\n",
       " 0.0012511399739967288,\n",
       " 0.0009416159227167431,\n",
       " -0.00032465113575864957,\n",
       " 0.0003150907077076881,\n",
       " -0.0015015647605936405,\n",
       " -0.00014588292203861208,\n",
       " 0.0036949705979605618,\n",
       " 0.00061820209015980843,\n",
       " 0.001175757564214952,\n",
       " 0.0010243577261047493,\n",
       " 0.00079019784647596514,\n",
       " 1.2408750330164531e-05,\n",
       " -0.00085457792634016649,\n",
       " 0.00088653596303973903,\n",
       " 0.0015679786525624323,\n",
       " 0.00089354717415304763,\n",
       " 0.00070764174041751393,\n",
       " -0.0018456607279738191,\n",
       " 6.7470471876579508e-05,\n",
       " -0.00071696507277091426,\n",
       " -9.1131248712100765e-05,\n",
       " 0.0011687281149710543,\n",
       " 0.00051492074096944063,\n",
       " -0.00012504161807573577,\n",
       " 0.0010725955918792912,\n",
       " -0.00096462841691066781,\n",
       " -0.00026279374464216465,\n",
       " -0.0017630499075236283,\n",
       " -0.0027957539706437995,\n",
       " 0.0019464459166064069,\n",
       " 0.00061107979225115405,\n",
       " 0.001877754721646821,\n",
       " 0.0013270546055891286,\n",
       " 0.0013336977380670467,\n",
       " 0.0019601848188030707,\n",
       " -0.00042096935617996767,\n",
       " 0.0018638732304292471,\n",
       " 0.0011618876790804589,\n",
       " -0.00016626495671322183,\n",
       " 0.00053539894033256819,\n",
       " -0.00066898254082452258,\n",
       " 0.00061157056376498486,\n",
       " 0.00059041257953472426,\n",
       " -0.0015293940635036363,\n",
       " 0.0015403897613737311,\n",
       " -0.001240149250162248,\n",
       " -0.0015636459833127114,\n",
       " -0.0011437680252898291,\n",
       " 0.00018461010011833201,\n",
       " 0.00025333445531533494,\n",
       " 0.0010378363204376628,\n",
       " 0.0015335012431388767,\n",
       " 0.0021390409071522648,\n",
       " -0.00093034831089978953,\n",
       " -0.00071010474073787688,\n",
       " 0.0019261103062642032,\n",
       " 0.00039092409671839801,\n",
       " -0.00015266532751372075,\n",
       " -0.00046229714956533274,\n",
       " 0.0021943015901232099,\n",
       " -0.00079967205790963669,\n",
       " 0.00020531710511964563,\n",
       " -0.00016631967110497525,\n",
       " 0.00035681973996584682,\n",
       " -0.0024309145220011291,\n",
       " 0.00032892245856913638,\n",
       " -0.0014879850275365952,\n",
       " -0.0029813990965155829,\n",
       " 0.0012997508924422474,\n",
       " 0.00050804051279394746,\n",
       " -0.0002009695137630968,\n",
       " 0.00058382250343666509,\n",
       " 0.00079725216589793257,\n",
       " 0.0011067994293441213,\n",
       " -0.00016664298341982631,\n",
       " -0.00034539959105675533,\n",
       " -0.0036215421788547142,\n",
       " 0.00063183156357299319,\n",
       " -0.00063447528718729718,\n",
       " -0.00047604434182134392,\n",
       " 3.2757624767343341e-05,\n",
       " -0.001405548298332851,\n",
       " -0.00090972752251575195,\n",
       " 0.0018296809990475116,\n",
       " 0.00052164014199344855,\n",
       " -0.0024861320966634293,\n",
       " -0.0015636061910278137,\n",
       " -0.00075839234686853052,\n",
       " -0.00079268405896251726,\n",
       " 6.0664854235267796e-05,\n",
       " -0.00097159651971533145,\n",
       " -0.00067566214956361892,\n",
       " -0.002451177179821018,\n",
       " -0.0018870929761070632,\n",
       " 0.00063896049352915596,\n",
       " -0.0028990668220597177,\n",
       " -0.00024205357940342009,\n",
       " -0.0020936241722622484,\n",
       " 0.0004392415470627492,\n",
       " 0.00060455437861606232,\n",
       " -0.00077224730989618184,\n",
       " 0.0006250889503827961,\n",
       " 0.00096916667963239944,\n",
       " 0.0013544611154719943,\n",
       " -0.0007308299838697796,\n",
       " -0.0010339048900607495,\n",
       " -0.00077887220424353865,\n",
       " -0.00044887492763603931,\n",
       " -0.0014605171712144815,\n",
       " 0.0012033381653442782,\n",
       " -0.00029732421044557922,\n",
       " 0.0010449271161207946,\n",
       " 0.0011481587249550229,\n",
       " 0.001561265883585905,\n",
       " -0.0017702948983107369,\n",
       " -0.0015702974058500047,\n",
       " -0.001405148717471924,\n",
       " -0.00204535977829777,\n",
       " 0.00097630887368352348,\n",
       " -0.00174930437327947,\n",
       " 0.00019142732384272443,\n",
       " -0.0010891125166518079,\n",
       " 0.00056340565051277158,\n",
       " -0.0009783424489292758,\n",
       " 0.0020016087768769536,\n",
       " 0.00033600496419290693,\n",
       " -0.00053145590387256025,\n",
       " -0.0011850726065089912,\n",
       " -0.00058646788506284964,\n",
       " 0.0015681859040463098,\n",
       " ...]"
      ]
     },
     "execution_count": 36,
     "metadata": {},
     "output_type": "execute_result"
    }
   ],
   "source": [
    "# Sampling distribution \n",
    "p_diffs = []\n",
    "for i in range (10000):\n",
    "    new_page_conversion = np.random.choice([1,0],p=[p_new,1-p_new],size=n_new)\n",
    "    old_page_conversion = np.random.choice([1,0],p=[P_old,1-P_old],size=n_old)\n",
    "    p_diffs.append(new_page_conversion.sum()/n_new - old_page_conversion.sum()/n_old)\n",
    "    \n",
    "p_diffs"
   ]
  },
  {
   "cell_type": "markdown",
   "metadata": {},
   "source": [
    "**i. Histogram**<br> \n",
    "Plot a histogram of the **p_diffs**.  Does this plot look like what you expected?  Use the matching problem in the classroom to assure you fully understand what was computed here.<br><br>\n",
    "\n",
    "Also, use `plt.axvline()` method to mark the actual difference observed  in the `df2` data (recall `obs_diff`), in the chart.  \n",
    "\n",
    ">**Tip**: Display title, x-label, and y-label in the chart."
   ]
  },
  {
   "cell_type": "code",
   "execution_count": 38,
   "metadata": {},
   "outputs": [
    {
     "data": {
      "image/png": "[encoded data removed]",
      "text/plain": [
       "<matplotlib.figure.Figure at 0x7f4d56b9ac50>"
      ]
     },
     "metadata": {
      "needs_background": "light"
     },
     "output_type": "display_data"
    }
   ],
   "source": [
    "p_diffs=np.array(p_diffs)\n",
    "plt.hist(p_diffs)\n",
    "plt.axvline(x=obs_diff,color='red');"
   ]
  },
  {
   "cell_type": "markdown",
   "metadata": {},
   "source": [
    "**j.** What proportion of the **p_diffs** are greater than the actual difference observed in the `df2` data?"
   ]
  },
  {
   "cell_type": "code",
   "execution_count": 39,
   "metadata": {},
   "outputs": [
    {
     "data": {
      "text/plain": [
       "0.90480000000000005"
      ]
     },
     "execution_count": 39,
     "metadata": {},
     "output_type": "execute_result"
    }
   ],
   "source": [
    "(p_diffs>obs_diff).mean()"
   ]
  },
  {
   "cell_type": "markdown",
   "metadata": {},
   "source": [
    "**k.** Please explain in words what you have just computed in part **j** above.  \n",
    " - What is this value called in scientific studies?  \n",
    " - What does this value signify in terms of whether or not there is a difference between the new and old pages? *Hint*: Compare the value above with the \"Type I error rate (0.05)\". "
   ]
  },
  {
   "cell_type": "markdown",
   "metadata": {},
   "source": [
    ">**Put your answer here.**\n",
    "* what we calculated in part j was the p-value which in our case is greater than Type I error rate (0.05) so we can say we fail to reject the null hypothesis so that means that the new page does not lead to better conversions"
   ]
  },
  {
   "cell_type": "markdown",
   "metadata": {},
   "source": [
    "\n",
    "\n",
    "**l. Using Built-in Methods for Hypothesis Testing**<br>\n",
    "We could also use a built-in to achieve similar results.  Though using the built-in might be easier to code, the above portions are a walkthrough of the ideas that are critical to correctly thinking about statistical significance. \n",
    "\n",
    "Fill in the statements below to calculate the:\n",
    "- `convert_old`: number of conversions with the old_page\n",
    "- `convert_new`: number of conversions with the new_page\n",
    "- `n_old`: number of individuals who were shown the old_page\n",
    "- `n_new`: number of individuals who were shown the new_page\n"
   ]
  },
  {
   "cell_type": "code",
   "execution_count": 40,
   "metadata": {},
   "outputs": [
    {
     "name": "stderr",
     "output_type": "stream",
     "text": [
      "/opt/conda/lib/python3.6/site-packages/statsmodels/compat/pandas.py:56: FutureWarning: The pandas.core.datetools module is deprecated and will be removed in a future version. Please use the pandas.tseries module instead.\n",
      "  from pandas.core import datetools\n"
     ]
    }
   ],
   "source": [
    "import statsmodels.api as sm\n",
    "\n",
    "# number of conversions with the old_page\n",
    "convert_old = df2.groupby('group')['converted'].sum()[0]\n",
    "\n",
    "# number of conversions with the new_page\n",
    "convert_new = df2.groupby('group')['converted'].sum()[1]\n",
    "\n",
    "# number of individuals who were shown the old_page\n",
    "n_old = df2[df2['group']=='control'].count()[2]\n",
    "\n",
    "# number of individuals who received new_page\n",
    "n_new = df2[df2['group']=='treatment'].count()[2]"
   ]
  },
  {
   "cell_type": "markdown",
   "metadata": {},
   "source": [
    "**m.** Now use `sm.stats.proportions_ztest()` to compute your test statistic and p-value.  [Here](https://www.statsmodels.org/stable/generated/statsmodels.stats.proportion.proportions_ztest.html) is a helpful link on using the built in.\n",
    "\n",
    "The syntax is: \n",
    "```bash\n",
    "proportions_ztest(count_array, nobs_array, alternative='larger')\n",
    "```\n",
    "where, \n",
    "- `count_array` = represents the number of \"converted\" for each group\n",
    "- `nobs_array` = represents the total number of observations (rows) in each group\n",
    "- `alternative` = choose one of the values from `[‘two-sided’, ‘smaller’, ‘larger’]` depending upon two-tailed, left-tailed, or right-tailed respectively. \n",
    ">**Hint**: <br>\n",
    "It's a two-tailed if you defined $H_1$ as $(p_{new} = p_{old})$. <br>\n",
    "It's a left-tailed if you defined $H_1$ as $(p_{new} < p_{old})$. <br>\n",
    "It's a right-tailed if you defined $H_1$ as $(p_{new} > p_{old})$. \n",
    "\n",
    "The built-in function above will return the z_score, p_value. \n",
    "\n",
    "---\n",
    "### About the two-sample z-test\n",
    "Recall that you have plotted a distribution `p_diffs` representing the\n",
    "difference in the \"converted\" probability  $(p{'}_{new}-p{'}_{old})$  for your two simulated samples 10,000 times. \n",
    "\n",
    "Another way for comparing the mean of two independent and normal distribution is a **two-sample z-test**. You can perform the Z-test to calculate the Z_score, as shown in the equation below:\n",
    "\n",
    "$$\n",
    "Z_{score} = \\frac{ (p{'}_{new}-p{'}_{old}) - (p_{new}  -  p_{old})}{ \\sqrt{ \\frac{\\sigma^{2}_{new} }{n_{new}} + \\frac{\\sigma^{2}_{old} }{n_{old}}  } }\n",
    "$$\n",
    "\n",
    "where,\n",
    "- $p{'}$ is the \"converted\" success rate in the sample\n",
    "- $p_{new}$ and $p_{old}$ are the \"converted\" success rate for the two groups in the population. \n",
    "- $\\sigma_{new}$ and $\\sigma_{new}$ are the standard deviation for the two groups in the population. \n",
    "- $n_{new}$ and $n_{old}$ represent the size of the two groups or samples (it's same in our case)\n",
    "\n",
    "\n",
    ">Z-test is performed when the sample size is large, and the population variance is known. The z-score represents the distance between the two \"converted\" success rates in terms of the standard error. \n",
    "\n",
    "Next step is to make a decision to reject or fail to reject the null hypothesis based on comparing these two values: \n",
    "- $Z_{score}$\n",
    "- $Z_{\\alpha}$ or $Z_{0.05}$, also known as critical value at 95% confidence interval.  $Z_{0.05}$ is 1.645 for one-tailed tests,  and 1.960 for two-tailed test. You can determine the $Z_{\\alpha}$ from the z-table manually. \n",
    "\n",
    "Decide if your hypothesis is either a two-tailed, left-tailed, or right-tailed test. Accordingly, reject OR fail to reject the  null based on the comparison between $Z_{score}$ and $Z_{\\alpha}$. We determine whether or not the $Z_{score}$ lies in the \"rejection region\" in the distribution. In other words, a \"rejection region\" is an interval where the null hypothesis is rejected iff the $Z_{score}$ lies in that region.\n",
    "\n",
    ">Hint:<br>\n",
    "For a right-tailed test, reject null if $Z_{score}$ > $Z_{\\alpha}$. <br>\n",
    "For a left-tailed test, reject null if $Z_{score}$ < $Z_{\\alpha}$. \n",
    "\n",
    "\n",
    "\n",
    "\n",
    "Reference: \n",
    "- Example 9.1.2 on this [page](https://stats.libretexts.org/Bookshelves/Introductory_Statistics/Book%3A_Introductory_Statistics_(Shafer_and_Zhang)/09%3A_Two-Sample_Problems/9.01%3A_Comparison_of_Two_Population_Means-_Large_Independent_Samples), courtesy www.stats.libretexts.org\n",
    "\n",
    "---\n",
    "\n",
    ">**Tip**: You don't have to dive deeper into z-test for this exercise. **Try having an overview of what does z-score signify in general.** "
   ]
  },
  {
   "cell_type": "code",
   "execution_count": 32,
   "metadata": {},
   "outputs": [
    {
     "name": "stdout",
     "output_type": "stream",
     "text": [
      "1.31024085793 0.904942816116\n"
     ]
    }
   ],
   "source": [
    "import statsmodels.api as sm\n",
    "# ToDo: Complete the sm.stats.proportions_ztest() method arguments\n",
    "z_score, p_value = sm.stats.proportions_ztest([convert_old,convert_new],[n_old,n_new],alternative='smaller')\n",
    "print(z_score, p_value)"
   ]
  },
  {
   "cell_type": "markdown",
   "metadata": {},
   "source": [
    "**n.** What do the z-score and p-value you computed in the previous question mean for the conversion rates of the old and new pages?  Do they agree with the findings in parts **j.** and **k.**?<br><br>\n",
    "\n",
    ">**Tip**: Notice whether the p-value is similar to the one computed earlier. Accordingly, can you reject/fail to reject the null hypothesis? It is important to correctly interpret the test statistic and p-value."
   ]
  },
  {
   "cell_type": "markdown",
   "metadata": {},
   "source": [
    ">**Put your answer here.**\n",
    "* from the results we can see that z_score (1.31) is less than z_alpha and the p_value is similar to what we calculated before so that means that the new page does not improve conversion rate"
   ]
  },
  {
   "cell_type": "markdown",
   "metadata": {},
   "source": [
    "<a id='regression'></a>\n",
    "### Part III - A regression approach\n",
    "\n",
    "### ToDo 3.1 \n",
    "In this final part, you will see that the result you achieved in the A/B test in Part II above can also be achieved by performing regression.<br><br> \n",
    "\n",
    "**a.** Since each row in the `df2` data is either a conversion or no conversion, what type of regression should you be performing in this case?"
   ]
  },
  {
   "cell_type": "markdown",
   "metadata": {},
   "source": [
    ">**Put your answer here.**\n",
    "* we will be using logistic regression since we are dealing with categorical variable"
   ]
  },
  {
   "cell_type": "markdown",
   "metadata": {},
   "source": [
    "**b.** The goal is to use **statsmodels** library to fit the regression model you specified in part **a.** above to see if there is a significant difference in conversion based on the page-type a customer receives. However, you first need to create the following two columns in the `df2` dataframe:\n",
    " 1. `intercept` - It should be `1` in the entire column. \n",
    " 2. `ab_page` - It's a dummy variable column, having a value `1` when an individual receives the **treatment**, otherwise `0`.  "
   ]
  },
  {
   "cell_type": "code",
   "execution_count": 41,
   "metadata": {},
   "outputs": [
    {
     "data": {
      "text/html": [
       "<div>\n",
       "<style scoped>\n",
       "    .dataframe tbody tr th:only-of-type {\n",
       "        vertical-align: middle;\n",
       "    }\n",
       "\n",
       "    .dataframe tbody tr th {\n",
       "        vertical-align: top;\n",
       "    }\n",
       "\n",
       "    .dataframe thead th {\n",
       "        text-align: right;\n",
       "    }\n",
       "</style>\n",
       "<table border=\"1\" class=\"dataframe\">\n",
       "  <thead>\n",
       "    <tr style=\"text-align: right;\">\n",
       "      <th></th>\n",
       "      <th>user_id</th>\n",
       "      <th>timestamp</th>\n",
       "      <th>group</th>\n",
       "      <th>landing_page</th>\n",
       "      <th>converted</th>\n",
       "      <th>ab_page</th>\n",
       "      <th>intercept</th>\n",
       "    </tr>\n",
       "  </thead>\n",
       "  <tbody>\n",
       "    <tr>\n",
       "      <th>0</th>\n",
       "      <td>851104</td>\n",
       "      <td>2017-01-21 22:11:48.556739</td>\n",
       "      <td>control</td>\n",
       "      <td>old_page</td>\n",
       "      <td>0</td>\n",
       "      <td>0</td>\n",
       "      <td>1</td>\n",
       "    </tr>\n",
       "    <tr>\n",
       "      <th>1</th>\n",
       "      <td>804228</td>\n",
       "      <td>2017-01-12 08:01:45.159739</td>\n",
       "      <td>control</td>\n",
       "      <td>old_page</td>\n",
       "      <td>0</td>\n",
       "      <td>0</td>\n",
       "      <td>1</td>\n",
       "    </tr>\n",
       "    <tr>\n",
       "      <th>2</th>\n",
       "      <td>661590</td>\n",
       "      <td>2017-01-11 16:55:06.154213</td>\n",
       "      <td>treatment</td>\n",
       "      <td>new_page</td>\n",
       "      <td>0</td>\n",
       "      <td>1</td>\n",
       "      <td>1</td>\n",
       "    </tr>\n",
       "    <tr>\n",
       "      <th>3</th>\n",
       "      <td>853541</td>\n",
       "      <td>2017-01-08 18:28:03.143765</td>\n",
       "      <td>treatment</td>\n",
       "      <td>new_page</td>\n",
       "      <td>0</td>\n",
       "      <td>1</td>\n",
       "      <td>1</td>\n",
       "    </tr>\n",
       "    <tr>\n",
       "      <th>4</th>\n",
       "      <td>864975</td>\n",
       "      <td>2017-01-21 01:52:26.210827</td>\n",
       "      <td>control</td>\n",
       "      <td>old_page</td>\n",
       "      <td>1</td>\n",
       "      <td>0</td>\n",
       "      <td>1</td>\n",
       "    </tr>\n",
       "  </tbody>\n",
       "</table>\n",
       "</div>"
      ],
      "text/plain": [
       "   user_id                   timestamp      group landing_page  converted  \\\n",
       "0   851104  2017-01-21 22:11:48.556739    control     old_page          0   \n",
       "1   804228  2017-01-12 08:01:45.159739    control     old_page          0   \n",
       "2   661590  2017-01-11 16:55:06.154213  treatment     new_page          0   \n",
       "3   853541  2017-01-08 18:28:03.143765  treatment     new_page          0   \n",
       "4   864975  2017-01-21 01:52:26.210827    control     old_page          1   \n",
       "\n",
       "   ab_page  intercept  \n",
       "0        0          1  \n",
       "1        0          1  \n",
       "2        1          1  \n",
       "3        1          1  \n",
       "4        0          1  "
      ]
     },
     "execution_count": 41,
     "metadata": {},
     "output_type": "execute_result"
    }
   ],
   "source": [
    "df2[['control','ab_page']]=pd.get_dummies(df2['group'])\n",
    "df2.drop(['control'], axis=1 ,inplace=True)\n",
    "df2['intercept']=1\n",
    "df2.head()"
   ]
  },
  {
   "cell_type": "markdown",
   "metadata": {},
   "source": [
    "**c.** Use **statsmodels** to instantiate your regression model on the two columns you created in part (b). above, then fit the model to predict whether or not an individual converts. \n"
   ]
  },
  {
   "cell_type": "code",
   "execution_count": 42,
   "metadata": {},
   "outputs": [],
   "source": [
    "logit_mod=sm.Logit(df2['converted'],df2[['intercept','ab_page']])"
   ]
  },
  {
   "cell_type": "markdown",
   "metadata": {},
   "source": [
    "**d.** Provide the summary of your model below, and use it as necessary to answer the following questions."
   ]
  },
  {
   "cell_type": "code",
   "execution_count": 43,
   "metadata": {},
   "outputs": [
    {
     "name": "stdout",
     "output_type": "stream",
     "text": [
      "Optimization terminated successfully.\n",
      "         Current function value: 0.366119\n",
      "         Iterations 6\n"
     ]
    },
    {
     "data": {
      "text/html": [
       "<table class=\"simpletable\">\n",
       "<tr>\n",
       "        <td>Model:</td>              <td>Logit</td>       <td>No. Iterations:</td>    <td>6.0000</td>   \n",
       "</tr>\n",
       "<tr>\n",
       "  <td>Dependent Variable:</td>     <td>converted</td>    <td>Pseudo R-squared:</td>    <td>0.000</td>   \n",
       "</tr>\n",
       "<tr>\n",
       "         <td>Date:</td>        <td>2022-07-14 14:50</td>       <td>AIC:</td>        <td>212780.0972</td>\n",
       "</tr>\n",
       "<tr>\n",
       "   <td>No. Observations:</td>       <td>290583</td>            <td>BIC:</td>        <td>212801.2565</td>\n",
       "</tr>\n",
       "<tr>\n",
       "       <td>Df Model:</td>              <td>1</td>         <td>Log-Likelihood:</td>  <td>-1.0639e+05</td>\n",
       "</tr>\n",
       "<tr>\n",
       "     <td>Df Residuals:</td>         <td>290581</td>          <td>LL-Null:</td>      <td>-1.0639e+05</td>\n",
       "</tr>\n",
       "<tr>\n",
       "      <td>Converged:</td>           <td>1.0000</td>           <td>Scale:</td>         <td>1.0000</td>   \n",
       "</tr>\n",
       "</table>\n",
       "<table class=\"simpletable\">\n",
       "<tr>\n",
       "      <td></td>       <th>Coef.</th>  <th>Std.Err.</th>     <th>z</th>      <th>P>|z|</th> <th>[0.025</th>  <th>0.975]</th> \n",
       "</tr>\n",
       "<tr>\n",
       "  <th>intercept</th> <td>-1.9888</td>  <td>0.0081</td>  <td>-246.6690</td> <td>0.0000</td> <td>-2.0046</td> <td>-1.9730</td>\n",
       "</tr>\n",
       "<tr>\n",
       "  <th>ab_page</th>   <td>-0.0150</td>  <td>0.0114</td>   <td>-1.3102</td>  <td>0.1901</td> <td>-0.0374</td> <td>0.0074</td> \n",
       "</tr>\n",
       "</table>"
      ],
      "text/plain": [
       "<class 'statsmodels.iolib.summary2.Summary'>\n",
       "\"\"\"\n",
       "                          Results: Logit\n",
       "==================================================================\n",
       "Model:              Logit            No. Iterations:   6.0000     \n",
       "Dependent Variable: converted        Pseudo R-squared: 0.000      \n",
       "Date:               2022-07-14 14:50 AIC:              212780.0972\n",
       "No. Observations:   290583           BIC:              212801.2565\n",
       "Df Model:           1                Log-Likelihood:   -1.0639e+05\n",
       "Df Residuals:       290581           LL-Null:          -1.0639e+05\n",
       "Converged:          1.0000           Scale:            1.0000     \n",
       "-------------------------------------------------------------------\n",
       "              Coef.   Std.Err.      z      P>|z|    [0.025   0.975]\n",
       "-------------------------------------------------------------------\n",
       "intercept    -1.9888    0.0081  -246.6690  0.0000  -2.0046  -1.9730\n",
       "ab_page      -0.0150    0.0114    -1.3102  0.1901  -0.0374   0.0074\n",
       "==================================================================\n",
       "\n",
       "\"\"\""
      ]
     },
     "execution_count": 43,
     "metadata": {},
     "output_type": "execute_result"
    }
   ],
   "source": [
    "results = logit_mod.fit()\n",
    "results.summary2()"
   ]
  },
  {
   "cell_type": "markdown",
   "metadata": {},
   "source": [
    "**e.** What is the p-value associated with **ab_page**? Why does it differ from the value you found in **Part II**?<br><br>  \n",
    "\n",
    "**Hints**: \n",
    "- What are the null and alternative hypotheses associated with your regression model, and how do they compare to the null and alternative hypotheses in **Part II**? \n",
    "- You may comment on if these hypothesis (Part II vs. Part III) are one-sided or two-sided. \n",
    "- You may also compare the current p-value with the Type I error rate (0.05).\n"
   ]
  },
  {
   "cell_type": "markdown",
   "metadata": {},
   "source": [
    ">**Put your answer here.**\n",
    "* the null hypothsis of the associated with the regression model that the relationship between the 2 variables does not exist\n",
    "  the alternative hypothsis is that the 2 variables are related \n",
    "* from the results we can see that the p_value (0.1901) is higher than Type I error rate (0.05) so we fail to reject the null\n",
    "  that means that the new page has no relation to the conversion rate which is the same conclusion we reached in part 2"
   ]
  },
  {
   "cell_type": "markdown",
   "metadata": {},
   "source": [
    "**f.** Now, you are considering other things that might influence whether or not an individual converts.  Discuss why it is a good idea to consider other factors to add into your regression model.  Are there any disadvantages to adding additional terms into your regression model?"
   ]
  },
  {
   "cell_type": "markdown",
   "metadata": {},
   "source": [
    ">**Put your answer here.**\n",
    "* other factors that may influence the conversion can be duration as the users may need longer time to overcome Novelty effect and change aversion biases and also location may affect the conversion as when we consider is a e-commerce website the new page may be effective where the product is relevant"
   ]
  },
  {
   "cell_type": "markdown",
   "metadata": {},
   "source": [
    "**g. Adding countries**<br> \n",
    "Now along with testing if the conversion rate changes for different pages, also add an effect based on which country a user lives in. \n",
    "\n",
    "1. You will need to read in the **countries.csv** dataset and merge together your `df2` datasets on the appropriate rows. You call the resulting dataframe `df_merged`. [Here](https://pandas.pydata.org/pandas-docs/stable/reference/api/pandas.DataFrame.join.html) are the docs for joining tables. \n",
    "\n",
    "2. Does it appear that country had an impact on conversion?  To answer this question, consider the three unique values, `['UK', 'US', 'CA']`, in the `country` column. Create dummy variables for these country columns. \n",
    ">**Hint:** Use `pandas.get_dummies()` to create dummy variables. **You will utilize two columns for the three dummy variables.** \n",
    "\n",
    " Provide the statistical output as well as a written response to answer this question."
   ]
  },
  {
   "cell_type": "code",
   "execution_count": 44,
   "metadata": {},
   "outputs": [
    {
     "data": {
      "text/html": [
       "<div>\n",
       "<style scoped>\n",
       "    .dataframe tbody tr th:only-of-type {\n",
       "        vertical-align: middle;\n",
       "    }\n",
       "\n",
       "    .dataframe tbody tr th {\n",
       "        vertical-align: top;\n",
       "    }\n",
       "\n",
       "    .dataframe thead th {\n",
       "        text-align: right;\n",
       "    }\n",
       "</style>\n",
       "<table border=\"1\" class=\"dataframe\">\n",
       "  <thead>\n",
       "    <tr style=\"text-align: right;\">\n",
       "      <th></th>\n",
       "      <th>user_id</th>\n",
       "      <th>country</th>\n",
       "    </tr>\n",
       "  </thead>\n",
       "  <tbody>\n",
       "    <tr>\n",
       "      <th>0</th>\n",
       "      <td>834778</td>\n",
       "      <td>UK</td>\n",
       "    </tr>\n",
       "    <tr>\n",
       "      <th>1</th>\n",
       "      <td>928468</td>\n",
       "      <td>US</td>\n",
       "    </tr>\n",
       "    <tr>\n",
       "      <th>2</th>\n",
       "      <td>822059</td>\n",
       "      <td>UK</td>\n",
       "    </tr>\n",
       "    <tr>\n",
       "      <th>3</th>\n",
       "      <td>711597</td>\n",
       "      <td>UK</td>\n",
       "    </tr>\n",
       "    <tr>\n",
       "      <th>4</th>\n",
       "      <td>710616</td>\n",
       "      <td>UK</td>\n",
       "    </tr>\n",
       "  </tbody>\n",
       "</table>\n",
       "</div>"
      ],
      "text/plain": [
       "   user_id country\n",
       "0   834778      UK\n",
       "1   928468      US\n",
       "2   822059      UK\n",
       "3   711597      UK\n",
       "4   710616      UK"
      ]
     },
     "execution_count": 44,
     "metadata": {},
     "output_type": "execute_result"
    }
   ],
   "source": [
    "# Read the countries.csv\n",
    "df3 = pd.read_csv('countries.csv')\n",
    "df3.head()"
   ]
  },
  {
   "cell_type": "code",
   "execution_count": 45,
   "metadata": {},
   "outputs": [
    {
     "data": {
      "text/html": [
       "<div>\n",
       "<style scoped>\n",
       "    .dataframe tbody tr th:only-of-type {\n",
       "        vertical-align: middle;\n",
       "    }\n",
       "\n",
       "    .dataframe tbody tr th {\n",
       "        vertical-align: top;\n",
       "    }\n",
       "\n",
       "    .dataframe thead th {\n",
       "        text-align: right;\n",
       "    }\n",
       "</style>\n",
       "<table border=\"1\" class=\"dataframe\">\n",
       "  <thead>\n",
       "    <tr style=\"text-align: right;\">\n",
       "      <th></th>\n",
       "      <th>timestamp</th>\n",
       "      <th>group</th>\n",
       "      <th>landing_page</th>\n",
       "      <th>converted</th>\n",
       "      <th>ab_page</th>\n",
       "      <th>intercept</th>\n",
       "      <th>country</th>\n",
       "    </tr>\n",
       "    <tr>\n",
       "      <th>user_id</th>\n",
       "      <th></th>\n",
       "      <th></th>\n",
       "      <th></th>\n",
       "      <th></th>\n",
       "      <th></th>\n",
       "      <th></th>\n",
       "      <th></th>\n",
       "    </tr>\n",
       "  </thead>\n",
       "  <tbody>\n",
       "    <tr>\n",
       "      <th>851104</th>\n",
       "      <td>2017-01-21 22:11:48.556739</td>\n",
       "      <td>control</td>\n",
       "      <td>old_page</td>\n",
       "      <td>0</td>\n",
       "      <td>0</td>\n",
       "      <td>1</td>\n",
       "      <td>US</td>\n",
       "    </tr>\n",
       "    <tr>\n",
       "      <th>804228</th>\n",
       "      <td>2017-01-12 08:01:45.159739</td>\n",
       "      <td>control</td>\n",
       "      <td>old_page</td>\n",
       "      <td>0</td>\n",
       "      <td>0</td>\n",
       "      <td>1</td>\n",
       "      <td>US</td>\n",
       "    </tr>\n",
       "    <tr>\n",
       "      <th>661590</th>\n",
       "      <td>2017-01-11 16:55:06.154213</td>\n",
       "      <td>treatment</td>\n",
       "      <td>new_page</td>\n",
       "      <td>0</td>\n",
       "      <td>1</td>\n",
       "      <td>1</td>\n",
       "      <td>US</td>\n",
       "    </tr>\n",
       "    <tr>\n",
       "      <th>853541</th>\n",
       "      <td>2017-01-08 18:28:03.143765</td>\n",
       "      <td>treatment</td>\n",
       "      <td>new_page</td>\n",
       "      <td>0</td>\n",
       "      <td>1</td>\n",
       "      <td>1</td>\n",
       "      <td>US</td>\n",
       "    </tr>\n",
       "    <tr>\n",
       "      <th>864975</th>\n",
       "      <td>2017-01-21 01:52:26.210827</td>\n",
       "      <td>control</td>\n",
       "      <td>old_page</td>\n",
       "      <td>1</td>\n",
       "      <td>0</td>\n",
       "      <td>1</td>\n",
       "      <td>US</td>\n",
       "    </tr>\n",
       "  </tbody>\n",
       "</table>\n",
       "</div>"
      ],
      "text/plain": [
       "                          timestamp      group landing_page  converted  \\\n",
       "user_id                                                                  \n",
       "851104   2017-01-21 22:11:48.556739    control     old_page          0   \n",
       "804228   2017-01-12 08:01:45.159739    control     old_page          0   \n",
       "661590   2017-01-11 16:55:06.154213  treatment     new_page          0   \n",
       "853541   2017-01-08 18:28:03.143765  treatment     new_page          0   \n",
       "864975   2017-01-21 01:52:26.210827    control     old_page          1   \n",
       "\n",
       "         ab_page  intercept country  \n",
       "user_id                              \n",
       "851104         0          1      US  \n",
       "804228         0          1      US  \n",
       "661590         1          1      US  \n",
       "853541         1          1      US  \n",
       "864975         0          1      US  "
      ]
     },
     "execution_count": 45,
     "metadata": {},
     "output_type": "execute_result"
    }
   ],
   "source": [
    "# Join with the df2 dataframe\n",
    "df_merged = df2.set_index('user_id').join(df3.set_index('user_id'),how='inner')\n",
    "df_merged.head()"
   ]
  },
  {
   "cell_type": "code",
   "execution_count": 47,
   "metadata": {},
   "outputs": [
    {
     "data": {
      "text/html": [
       "<div>\n",
       "<style scoped>\n",
       "    .dataframe tbody tr th:only-of-type {\n",
       "        vertical-align: middle;\n",
       "    }\n",
       "\n",
       "    .dataframe tbody tr th {\n",
       "        vertical-align: top;\n",
       "    }\n",
       "\n",
       "    .dataframe thead th {\n",
       "        text-align: right;\n",
       "    }\n",
       "</style>\n",
       "<table border=\"1\" class=\"dataframe\">\n",
       "  <thead>\n",
       "    <tr style=\"text-align: right;\">\n",
       "      <th></th>\n",
       "      <th>timestamp</th>\n",
       "      <th>group</th>\n",
       "      <th>landing_page</th>\n",
       "      <th>converted</th>\n",
       "      <th>ab_page</th>\n",
       "      <th>intercept</th>\n",
       "      <th>country</th>\n",
       "      <th>CA</th>\n",
       "      <th>UK</th>\n",
       "      <th>US</th>\n",
       "    </tr>\n",
       "    <tr>\n",
       "      <th>user_id</th>\n",
       "      <th></th>\n",
       "      <th></th>\n",
       "      <th></th>\n",
       "      <th></th>\n",
       "      <th></th>\n",
       "      <th></th>\n",
       "      <th></th>\n",
       "      <th></th>\n",
       "      <th></th>\n",
       "      <th></th>\n",
       "    </tr>\n",
       "  </thead>\n",
       "  <tbody>\n",
       "    <tr>\n",
       "      <th>851104</th>\n",
       "      <td>2017-01-21 22:11:48.556739</td>\n",
       "      <td>control</td>\n",
       "      <td>old_page</td>\n",
       "      <td>0</td>\n",
       "      <td>0</td>\n",
       "      <td>1</td>\n",
       "      <td>US</td>\n",
       "      <td>0</td>\n",
       "      <td>0</td>\n",
       "      <td>1</td>\n",
       "    </tr>\n",
       "    <tr>\n",
       "      <th>804228</th>\n",
       "      <td>2017-01-12 08:01:45.159739</td>\n",
       "      <td>control</td>\n",
       "      <td>old_page</td>\n",
       "      <td>0</td>\n",
       "      <td>0</td>\n",
       "      <td>1</td>\n",
       "      <td>US</td>\n",
       "      <td>0</td>\n",
       "      <td>0</td>\n",
       "      <td>1</td>\n",
       "    </tr>\n",
       "    <tr>\n",
       "      <th>661590</th>\n",
       "      <td>2017-01-11 16:55:06.154213</td>\n",
       "      <td>treatment</td>\n",
       "      <td>new_page</td>\n",
       "      <td>0</td>\n",
       "      <td>1</td>\n",
       "      <td>1</td>\n",
       "      <td>US</td>\n",
       "      <td>0</td>\n",
       "      <td>0</td>\n",
       "      <td>1</td>\n",
       "    </tr>\n",
       "    <tr>\n",
       "      <th>853541</th>\n",
       "      <td>2017-01-08 18:28:03.143765</td>\n",
       "      <td>treatment</td>\n",
       "      <td>new_page</td>\n",
       "      <td>0</td>\n",
       "      <td>1</td>\n",
       "      <td>1</td>\n",
       "      <td>US</td>\n",
       "      <td>0</td>\n",
       "      <td>0</td>\n",
       "      <td>1</td>\n",
       "    </tr>\n",
       "    <tr>\n",
       "      <th>864975</th>\n",
       "      <td>2017-01-21 01:52:26.210827</td>\n",
       "      <td>control</td>\n",
       "      <td>old_page</td>\n",
       "      <td>1</td>\n",
       "      <td>0</td>\n",
       "      <td>1</td>\n",
       "      <td>US</td>\n",
       "      <td>0</td>\n",
       "      <td>0</td>\n",
       "      <td>1</td>\n",
       "    </tr>\n",
       "  </tbody>\n",
       "</table>\n",
       "</div>"
      ],
      "text/plain": [
       "                          timestamp      group landing_page  converted  \\\n",
       "user_id                                                                  \n",
       "851104   2017-01-21 22:11:48.556739    control     old_page          0   \n",
       "804228   2017-01-12 08:01:45.159739    control     old_page          0   \n",
       "661590   2017-01-11 16:55:06.154213  treatment     new_page          0   \n",
       "853541   2017-01-08 18:28:03.143765  treatment     new_page          0   \n",
       "864975   2017-01-21 01:52:26.210827    control     old_page          1   \n",
       "\n",
       "         ab_page  intercept country  CA  UK  US  \n",
       "user_id                                          \n",
       "851104         0          1      US   0   0   1  \n",
       "804228         0          1      US   0   0   1  \n",
       "661590         1          1      US   0   0   1  \n",
       "853541         1          1      US   0   0   1  \n",
       "864975         0          1      US   0   0   1  "
      ]
     },
     "execution_count": 47,
     "metadata": {},
     "output_type": "execute_result"
    }
   ],
   "source": [
    "# Create the necessary dummy variables\n",
    "df_merged[['CA','UK','US']] = pd.get_dummies(df_merged['country'])\n",
    "df_merged['intercept'] = 1\n",
    "df_merged.head()"
   ]
  },
  {
   "cell_type": "code",
   "execution_count": 48,
   "metadata": {},
   "outputs": [
    {
     "name": "stdout",
     "output_type": "stream",
     "text": [
      "Optimization terminated successfully.\n",
      "         Current function value: 0.366114\n",
      "         Iterations 6\n"
     ]
    },
    {
     "data": {
      "text/html": [
       "<table class=\"simpletable\">\n",
       "<tr>\n",
       "        <td>Model:</td>              <td>Logit</td>       <td>No. Iterations:</td>    <td>6.0000</td>   \n",
       "</tr>\n",
       "<tr>\n",
       "  <td>Dependent Variable:</td>     <td>converted</td>    <td>Pseudo R-squared:</td>    <td>0.000</td>   \n",
       "</tr>\n",
       "<tr>\n",
       "         <td>Date:</td>        <td>2022-07-14 15:03</td>       <td>AIC:</td>        <td>212780.8724</td>\n",
       "</tr>\n",
       "<tr>\n",
       "   <td>No. Observations:</td>       <td>290583</td>            <td>BIC:</td>        <td>212823.1910</td>\n",
       "</tr>\n",
       "<tr>\n",
       "       <td>Df Model:</td>              <td>3</td>         <td>Log-Likelihood:</td>  <td>-1.0639e+05</td>\n",
       "</tr>\n",
       "<tr>\n",
       "     <td>Df Residuals:</td>         <td>290579</td>          <td>LL-Null:</td>      <td>-1.0639e+05</td>\n",
       "</tr>\n",
       "<tr>\n",
       "      <td>Converged:</td>           <td>1.0000</td>           <td>Scale:</td>         <td>1.0000</td>   \n",
       "</tr>\n",
       "</table>\n",
       "<table class=\"simpletable\">\n",
       "<tr>\n",
       "      <td></td>       <th>Coef.</th>  <th>Std.Err.</th>     <th>z</th>      <th>P>|z|</th> <th>[0.025</th>  <th>0.975]</th> \n",
       "</tr>\n",
       "<tr>\n",
       "  <th>intercept</th> <td>-1.9893</td>  <td>0.0089</td>  <td>-223.7627</td> <td>0.0000</td> <td>-2.0067</td> <td>-1.9718</td>\n",
       "</tr>\n",
       "<tr>\n",
       "  <th>ab_page</th>   <td>-0.0149</td>  <td>0.0114</td>   <td>-1.3062</td>  <td>0.1915</td> <td>-0.0373</td> <td>0.0075</td> \n",
       "</tr>\n",
       "<tr>\n",
       "  <th>CA</th>        <td>-0.0408</td>  <td>0.0269</td>   <td>-1.5163</td>  <td>0.1294</td> <td>-0.0935</td> <td>0.0119</td> \n",
       "</tr>\n",
       "<tr>\n",
       "  <th>UK</th>        <td>0.0099</td>   <td>0.0133</td>   <td>0.7429</td>   <td>0.4575</td> <td>-0.0162</td> <td>0.0359</td> \n",
       "</tr>\n",
       "</table>"
      ],
      "text/plain": [
       "<class 'statsmodels.iolib.summary2.Summary'>\n",
       "\"\"\"\n",
       "                          Results: Logit\n",
       "==================================================================\n",
       "Model:              Logit            No. Iterations:   6.0000     \n",
       "Dependent Variable: converted        Pseudo R-squared: 0.000      \n",
       "Date:               2022-07-14 15:03 AIC:              212780.8724\n",
       "No. Observations:   290583           BIC:              212823.1910\n",
       "Df Model:           3                Log-Likelihood:   -1.0639e+05\n",
       "Df Residuals:       290579           LL-Null:          -1.0639e+05\n",
       "Converged:          1.0000           Scale:            1.0000     \n",
       "-------------------------------------------------------------------\n",
       "              Coef.   Std.Err.      z      P>|z|    [0.025   0.975]\n",
       "-------------------------------------------------------------------\n",
       "intercept    -1.9893    0.0089  -223.7627  0.0000  -2.0067  -1.9718\n",
       "ab_page      -0.0149    0.0114    -1.3062  0.1915  -0.0373   0.0075\n",
       "CA           -0.0408    0.0269    -1.5163  0.1294  -0.0935   0.0119\n",
       "UK            0.0099    0.0133     0.7429  0.4575  -0.0162   0.0359\n",
       "==================================================================\n",
       "\n",
       "\"\"\""
      ]
     },
     "execution_count": 48,
     "metadata": {},
     "output_type": "execute_result"
    }
   ],
   "source": [
    "# Fit your model, and summarize the results\n",
    "logit_mod2=sm.Logit(df_merged['converted'],df_merged[['intercept','ab_page','CA','UK']])\n",
    "results2 = logit_mod2.fit()\n",
    "results2.summary2()"
   ]
  },
  {
   "cell_type": "markdown",
   "metadata": {},
   "source": [
    "> * from the results there no statistical evidence that there is a relationship between the new page and location on conversion because the p_value of all varables is higher than Type I error rate (0.05) so we fail to reject the null hypothsis so we can conclude that location and new page has no effect on conversion rate"
   ]
  },
  {
   "cell_type": "markdown",
   "metadata": {},
   "source": [
    "**h. Fit your model and obtain the results**<br> \n",
    "Though you have now looked at the individual factors of country and page on conversion, we would now like to look at an interaction between page and country to see if are there significant effects on conversion.  **Create the necessary additional columns, and fit the new model.** \n",
    "\n",
    "\n",
    "Provide the summary results (statistical output), and your conclusions (written response) based on the results. \n",
    "\n",
    ">**Tip**: Conclusions should include both statistical reasoning, and practical reasoning for the situation. \n",
    "\n",
    ">**Hints**: \n",
    "- Look at all of p-values in the summary, and compare against the Type I error rate (0.05). \n",
    "- Can you reject/fail to reject the null hypotheses (regression model)?\n",
    "- Comment on the effect of page and country to predict the conversion.\n"
   ]
  },
  {
   "cell_type": "code",
   "execution_count": 49,
   "metadata": {},
   "outputs": [
    {
     "data": {
      "text/html": [
       "<div>\n",
       "<style scoped>\n",
       "    .dataframe tbody tr th:only-of-type {\n",
       "        vertical-align: middle;\n",
       "    }\n",
       "\n",
       "    .dataframe tbody tr th {\n",
       "        vertical-align: top;\n",
       "    }\n",
       "\n",
       "    .dataframe thead th {\n",
       "        text-align: right;\n",
       "    }\n",
       "</style>\n",
       "<table border=\"1\" class=\"dataframe\">\n",
       "  <thead>\n",
       "    <tr style=\"text-align: right;\">\n",
       "      <th></th>\n",
       "      <th>timestamp</th>\n",
       "      <th>group</th>\n",
       "      <th>landing_page</th>\n",
       "      <th>converted</th>\n",
       "      <th>ab_page</th>\n",
       "      <th>intercept</th>\n",
       "      <th>country</th>\n",
       "      <th>CA</th>\n",
       "      <th>UK</th>\n",
       "      <th>US</th>\n",
       "      <th>CA_ab</th>\n",
       "      <th>UK_ab</th>\n",
       "    </tr>\n",
       "    <tr>\n",
       "      <th>user_id</th>\n",
       "      <th></th>\n",
       "      <th></th>\n",
       "      <th></th>\n",
       "      <th></th>\n",
       "      <th></th>\n",
       "      <th></th>\n",
       "      <th></th>\n",
       "      <th></th>\n",
       "      <th></th>\n",
       "      <th></th>\n",
       "      <th></th>\n",
       "      <th></th>\n",
       "    </tr>\n",
       "  </thead>\n",
       "  <tbody>\n",
       "    <tr>\n",
       "      <th>851104</th>\n",
       "      <td>2017-01-21 22:11:48.556739</td>\n",
       "      <td>control</td>\n",
       "      <td>old_page</td>\n",
       "      <td>0</td>\n",
       "      <td>0</td>\n",
       "      <td>1</td>\n",
       "      <td>US</td>\n",
       "      <td>0</td>\n",
       "      <td>0</td>\n",
       "      <td>1</td>\n",
       "      <td>0</td>\n",
       "      <td>0</td>\n",
       "    </tr>\n",
       "    <tr>\n",
       "      <th>804228</th>\n",
       "      <td>2017-01-12 08:01:45.159739</td>\n",
       "      <td>control</td>\n",
       "      <td>old_page</td>\n",
       "      <td>0</td>\n",
       "      <td>0</td>\n",
       "      <td>1</td>\n",
       "      <td>US</td>\n",
       "      <td>0</td>\n",
       "      <td>0</td>\n",
       "      <td>1</td>\n",
       "      <td>0</td>\n",
       "      <td>0</td>\n",
       "    </tr>\n",
       "    <tr>\n",
       "      <th>661590</th>\n",
       "      <td>2017-01-11 16:55:06.154213</td>\n",
       "      <td>treatment</td>\n",
       "      <td>new_page</td>\n",
       "      <td>0</td>\n",
       "      <td>1</td>\n",
       "      <td>1</td>\n",
       "      <td>US</td>\n",
       "      <td>0</td>\n",
       "      <td>0</td>\n",
       "      <td>1</td>\n",
       "      <td>0</td>\n",
       "      <td>0</td>\n",
       "    </tr>\n",
       "    <tr>\n",
       "      <th>853541</th>\n",
       "      <td>2017-01-08 18:28:03.143765</td>\n",
       "      <td>treatment</td>\n",
       "      <td>new_page</td>\n",
       "      <td>0</td>\n",
       "      <td>1</td>\n",
       "      <td>1</td>\n",
       "      <td>US</td>\n",
       "      <td>0</td>\n",
       "      <td>0</td>\n",
       "      <td>1</td>\n",
       "      <td>0</td>\n",
       "      <td>0</td>\n",
       "    </tr>\n",
       "    <tr>\n",
       "      <th>864975</th>\n",
       "      <td>2017-01-21 01:52:26.210827</td>\n",
       "      <td>control</td>\n",
       "      <td>old_page</td>\n",
       "      <td>1</td>\n",
       "      <td>0</td>\n",
       "      <td>1</td>\n",
       "      <td>US</td>\n",
       "      <td>0</td>\n",
       "      <td>0</td>\n",
       "      <td>1</td>\n",
       "      <td>0</td>\n",
       "      <td>0</td>\n",
       "    </tr>\n",
       "  </tbody>\n",
       "</table>\n",
       "</div>"
      ],
      "text/plain": [
       "                          timestamp      group landing_page  converted  \\\n",
       "user_id                                                                  \n",
       "851104   2017-01-21 22:11:48.556739    control     old_page          0   \n",
       "804228   2017-01-12 08:01:45.159739    control     old_page          0   \n",
       "661590   2017-01-11 16:55:06.154213  treatment     new_page          0   \n",
       "853541   2017-01-08 18:28:03.143765  treatment     new_page          0   \n",
       "864975   2017-01-21 01:52:26.210827    control     old_page          1   \n",
       "\n",
       "         ab_page  intercept country  CA  UK  US  CA_ab  UK_ab  \n",
       "user_id                                                        \n",
       "851104         0          1      US   0   0   1      0      0  \n",
       "804228         0          1      US   0   0   1      0      0  \n",
       "661590         1          1      US   0   0   1      0      0  \n",
       "853541         1          1      US   0   0   1      0      0  \n",
       "864975         0          1      US   0   0   1      0      0  "
      ]
     },
     "execution_count": 49,
     "metadata": {},
     "output_type": "execute_result"
    }
   ],
   "source": [
    "df_merged['CA_ab']=df_merged['CA']*df_merged['ab_page']\n",
    "df_merged['UK_ab']=df_merged['UK']*df_merged['ab_page']\n",
    "df_merged.head()"
   ]
  },
  {
   "cell_type": "code",
   "execution_count": 50,
   "metadata": {},
   "outputs": [
    {
     "name": "stdout",
     "output_type": "stream",
     "text": [
      "Optimization terminated successfully.\n",
      "         Current function value: 0.366110\n",
      "         Iterations 6\n"
     ]
    },
    {
     "data": {
      "text/html": [
       "<table class=\"simpletable\">\n",
       "<tr>\n",
       "        <td>Model:</td>              <td>Logit</td>       <td>No. Iterations:</td>    <td>6.0000</td>   \n",
       "</tr>\n",
       "<tr>\n",
       "  <td>Dependent Variable:</td>     <td>converted</td>    <td>Pseudo R-squared:</td>    <td>0.000</td>   \n",
       "</tr>\n",
       "<tr>\n",
       "         <td>Date:</td>        <td>2022-07-14 15:04</td>       <td>AIC:</td>        <td>212782.4080</td>\n",
       "</tr>\n",
       "<tr>\n",
       "   <td>No. Observations:</td>       <td>290583</td>            <td>BIC:</td>        <td>212845.8859</td>\n",
       "</tr>\n",
       "<tr>\n",
       "       <td>Df Model:</td>              <td>5</td>         <td>Log-Likelihood:</td>  <td>-1.0639e+05</td>\n",
       "</tr>\n",
       "<tr>\n",
       "     <td>Df Residuals:</td>         <td>290577</td>          <td>LL-Null:</td>      <td>-1.0639e+05</td>\n",
       "</tr>\n",
       "<tr>\n",
       "      <td>Converged:</td>           <td>1.0000</td>           <td>Scale:</td>         <td>1.0000</td>   \n",
       "</tr>\n",
       "</table>\n",
       "<table class=\"simpletable\">\n",
       "<tr>\n",
       "      <td></td>       <th>Coef.</th>  <th>Std.Err.</th>     <th>z</th>      <th>P>|z|</th> <th>[0.025</th>  <th>0.975]</th> \n",
       "</tr>\n",
       "<tr>\n",
       "  <th>intercept</th> <td>-1.9865</td>  <td>0.0096</td>  <td>-206.3440</td> <td>0.0000</td> <td>-2.0053</td> <td>-1.9676</td>\n",
       "</tr>\n",
       "<tr>\n",
       "  <th>ab_page</th>   <td>-0.0206</td>  <td>0.0137</td>   <td>-1.5044</td>  <td>0.1325</td> <td>-0.0473</td> <td>0.0062</td> \n",
       "</tr>\n",
       "<tr>\n",
       "  <th>CA</th>        <td>-0.0175</td>  <td>0.0377</td>   <td>-0.4652</td>  <td>0.6418</td> <td>-0.0914</td> <td>0.0563</td> \n",
       "</tr>\n",
       "<tr>\n",
       "  <th>UK</th>        <td>-0.0057</td>  <td>0.0188</td>   <td>-0.3057</td>  <td>0.7598</td> <td>-0.0426</td> <td>0.0311</td> \n",
       "</tr>\n",
       "<tr>\n",
       "  <th>CA_ab</th>     <td>-0.0469</td>  <td>0.0538</td>   <td>-0.8720</td>  <td>0.3832</td> <td>-0.1523</td> <td>0.0585</td> \n",
       "</tr>\n",
       "<tr>\n",
       "  <th>UK_ab</th>     <td>0.0314</td>   <td>0.0266</td>   <td>1.1803</td>   <td>0.2379</td> <td>-0.0207</td> <td>0.0835</td> \n",
       "</tr>\n",
       "</table>"
      ],
      "text/plain": [
       "<class 'statsmodels.iolib.summary2.Summary'>\n",
       "\"\"\"\n",
       "                          Results: Logit\n",
       "==================================================================\n",
       "Model:              Logit            No. Iterations:   6.0000     \n",
       "Dependent Variable: converted        Pseudo R-squared: 0.000      \n",
       "Date:               2022-07-14 15:04 AIC:              212782.4080\n",
       "No. Observations:   290583           BIC:              212845.8859\n",
       "Df Model:           5                Log-Likelihood:   -1.0639e+05\n",
       "Df Residuals:       290577           LL-Null:          -1.0639e+05\n",
       "Converged:          1.0000           Scale:            1.0000     \n",
       "-------------------------------------------------------------------\n",
       "              Coef.   Std.Err.      z      P>|z|    [0.025   0.975]\n",
       "-------------------------------------------------------------------\n",
       "intercept    -1.9865    0.0096  -206.3440  0.0000  -2.0053  -1.9676\n",
       "ab_page      -0.0206    0.0137    -1.5044  0.1325  -0.0473   0.0062\n",
       "CA           -0.0175    0.0377    -0.4652  0.6418  -0.0914   0.0563\n",
       "UK           -0.0057    0.0188    -0.3057  0.7598  -0.0426   0.0311\n",
       "CA_ab        -0.0469    0.0538    -0.8720  0.3832  -0.1523   0.0585\n",
       "UK_ab         0.0314    0.0266     1.1803  0.2379  -0.0207   0.0835\n",
       "==================================================================\n",
       "\n",
       "\"\"\""
      ]
     },
     "execution_count": 50,
     "metadata": {},
     "output_type": "execute_result"
    }
   ],
   "source": [
    "logit_mod2=sm.Logit(df_merged['converted'],df_merged[['intercept','ab_page','CA','UK', 'CA_ab','UK_ab']])\n",
    "results2 = logit_mod2.fit()\n",
    "results2.summary2()"
   ]
  },
  {
   "cell_type": "markdown",
   "metadata": {},
   "source": [
    ">**Put your conclusion answer here.**\n",
    "* from the results there no statistical evidence that there is a relationship between the new page and location on conversion because the p_value of all varables is higher than Type I error rate (0.05) so we fail to reject the null hypothsis so we can conclude that location and new page and the interaction between them has no effect on conversion rate"
   ]
  },
  {
   "cell_type": "markdown",
   "metadata": {},
   "source": [
    "<a id='finalcheck'></a>\n",
    "## Final Check!\n",
    "\n",
    "Congratulations!  You have reached the end of the A/B Test Results project!  You should be very proud of all you have accomplished!\n",
    "\n",
    "> **Tip**: Once you are satisfied with your work here, check over your notebook to make sure that it satisfies all the specifications mentioned in the rubric. You should also probably remove all of the \"Hints\" and \"Tips\" like this one so that the presentation is as polished as possible.\n",
    "\n",
    "\n",
    "<a id='submission'></a>\n",
    "## Submission\n",
    "You may either submit your notebook through the \"SUBMIT PROJECT\" button at the bottom of this workspace, or you may work from your local machine and submit on  the last page of this project lesson.  \n",
    "\n",
    "1. Before you submit your project, you need to create a .html or .pdf version of this notebook in the workspace here. To do that, run the code cell below. If it worked correctly, you should get a return code of 0, and you should see the generated .html file in the workspace directory (click on the orange Jupyter icon in the upper left).\n",
    "\n",
    "\n",
    "2. Alternatively, you can download this report as .html via the **File** > **Download as** submenu, and then manually upload it into the workspace directory by clicking on the orange Jupyter icon in the upper left, then using the Upload button.\n",
    "\n",
    "\n",
    "3. Once you've done this, you can submit your project by clicking on the \"Submit Project\" button in the lower right here. This will create and submit a zip file with this .ipynb doc and the .html or .pdf version you created. Congratulations!"
   ]
  },
  {
   "cell_type": "code",
   "execution_count": 51,
   "metadata": {},
   "outputs": [
    {
     "data": {
      "text/plain": [
       "0"
      ]
     },
     "execution_count": 51,
     "metadata": {},
     "output_type": "execute_result"
    }
   ],
   "source": [
    "from subprocess import call\n",
    "call(['python', '-m', 'nbconvert', 'Analyze_ab_test_results_notebook.ipynb'])"
   ]
  },
  {
   "cell_type": "code",
   "execution_count": null,
   "metadata": {},
   "outputs": [],
   "source": []
  }
 ],
 "metadata": {
  "kernelspec": {
   "display_name": "Python 3",
   "language": "python",
   "name": "python3"
  },
  "language_info": {
   "codemirror_mode": {
    "name": "ipython",
    "version": 3
   },
   "file_extension": ".py",
   "mimetype": "text/x-python",
   "name": "python",
   "nbconvert_exporter": "python",
   "pygments_lexer": "ipython3",
   "version": "3.6.3"
  }
 },
 "nbformat": 4,
 "nbformat_minor": 2
}
